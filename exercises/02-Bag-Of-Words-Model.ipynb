{
 "cells": [
  {
   "cell_type": "markdown",
   "metadata": {
    "pycharm": {
     "name": "#%% md\n"
    }
   },
   "source": [
    "# Bag of words model\n",
    "\n",
    "## Exercise 1:\n",
    "\n",
    "The dataset `spam.csv` contains 5573 emails classified into two classes: \"spam\" and \"not-spam\".\n",
    "\n",
    "1. Read the dataset into a pandas dataframe\n",
    "2. Plot the distribution of the target variable `target`. How many spam and non-spam emails are contained in the dataset.\n",
    "3. Vectorize the `text` column. Remove stopwords and punctuation.\n",
    "4. Split the dataset into training and testing sets using 20 percent of the data for testing.\n",
    "5. Choose a classifier and train it on the training set.\n",
    "6. Evaluate the performance of the classifier on the test set\n"
   ]
  }
 ],
 "metadata": {
  "kernelspec": {
   "display_name": "Python 3 (ipykernel)",
   "language": "python",
   "name": "python3"
  },
  "language_info": {
   "codemirror_mode": {
    "name": "ipython",
    "version": 3
   },
   "file_extension": ".py",
   "mimetype": "text/x-python",
   "name": "python",
   "nbconvert_exporter": "python",
   "pygments_lexer": "ipython3",
   "version": "3.7.7"
  }
 },
 "nbformat": 4,
 "nbformat_minor": 1
}
