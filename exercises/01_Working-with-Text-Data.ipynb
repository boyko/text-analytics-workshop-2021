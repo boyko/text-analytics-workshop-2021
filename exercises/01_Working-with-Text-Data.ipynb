{
 "cells": [
  {
   "cell_type": "markdown",
   "source": [
    "# Handling text data in Python\n",
    "\n",
    "## Exercise 1:\n",
    "  \n",
    "  1. Read the `hillary_tweets.txt` file that is located in the \"data\" directory of the workshop directory.\n",
    "  2. Split the string on the newline character.\n",
    "  3. Compute the frequency distribution of all words over all tweets using `nltk.FreqDist`.\n",
    "  4. Compute the frequency distribution of all words in the first tweet using `nltk.FreqDist`.\n",
    "  5. Normalise each tweet by:\n",
    "    - compressing whitespace and removing leading and trailing whitespace\n",
    "    - removing the punctuation using regular expressions\n",
    "    - tokenize the tweets using the `nltk.word_tokenize` function.\n",
    "    - remove the stopwords\n",
    "    - applying the Porter stemming algorithm\n",
    "  6. Create a pandas dataframe with one column containing\n",
    "  7. Summarise each tweet by:\n",
    "    - Counting the number of characters in each tweet\n",
    "    - Counting the number of sentences in each tweet\n",
    "    - Counting the number of hashtags in each tweet\n",
    "    - Extracting the first mention (@) in each tweet in a column called `first_mention`.\n",
    "    - Extract the datetime of each tweet and store it in a column called `timestamp`"
   ],
   "metadata": {
    "collapsed": false,
    "pycharm": {
     "name": "#%% md\n"
    }
   }
  },
  {
   "cell_type": "code",
   "execution_count": 9,
   "metadata": {
    "collapsed": true,
    "pycharm": {
     "name": "#%%\n"
    }
   },
   "outputs": [],
   "source": [
    "## Import packages\n",
    "import os\n",
    "import pandas as pd\n",
    "import re\n",
    "\n",
    "## File path to the data\n",
    "tweets_path = os.path.join(\"..\", \"data\", \"hillary_tweets.txt\")"
   ]
  },
  {
   "cell_type": "markdown",
   "source": [
    "## Exercise 2\n",
    "\n",
    "The following data frame contains 5 appointment records.\n",
    "\n",
    "1. Replace each weekday mentioned in the records with its 3 letter abbreviation.\n",
    "2. Extract the time of each appointment (keep the am/pm suffix). Use named capture groups and the\n",
    "    `str.extractall` method of the `text` column."
   ],
   "metadata": {
    "collapsed": false
   }
  },
  {
   "cell_type": "code",
   "execution_count": 10,
   "outputs": [
    {
     "data": {
      "text/plain": "                                                text\n0     Monday: The doctor's appointment is at 2:45pm.\n1  Tuesday: The dentist's appointment is at 11:30...\n2  Wednesday: At 7:00pm, there is a basketball game!\n3  Thursday: Be back home by 11:15 pm at the latest.\n4  Friday: Take the train at 08:10 am, arrive at ...",
      "text/html": "<div>\n<style scoped>\n    .dataframe tbody tr th:only-of-type {\n        vertical-align: middle;\n    }\n\n    .dataframe tbody tr th {\n        vertical-align: top;\n    }\n\n    .dataframe thead th {\n        text-align: right;\n    }\n</style>\n<table border=\"1\" class=\"dataframe\">\n  <thead>\n    <tr style=\"text-align: right;\">\n      <th></th>\n      <th>text</th>\n    </tr>\n  </thead>\n  <tbody>\n    <tr>\n      <th>0</th>\n      <td>Monday: The doctor's appointment is at 2:45pm.</td>\n    </tr>\n    <tr>\n      <th>1</th>\n      <td>Tuesday: The dentist's appointment is at 11:30...</td>\n    </tr>\n    <tr>\n      <th>2</th>\n      <td>Wednesday: At 7:00pm, there is a basketball game!</td>\n    </tr>\n    <tr>\n      <th>3</th>\n      <td>Thursday: Be back home by 11:15 pm at the latest.</td>\n    </tr>\n    <tr>\n      <th>4</th>\n      <td>Friday: Take the train at 08:10 am, arrive at ...</td>\n    </tr>\n  </tbody>\n</table>\n</div>"
     },
     "execution_count": 10,
     "metadata": {},
     "output_type": "execute_result"
    }
   ],
   "source": [
    "time_sentences = [\"Monday: The doctor's appointment is at 2:45pm.\",\n",
    "                  \"Tuesday: The dentist's appointment is at 11:30 am.\",\n",
    "                  \"Wednesday: At 7:00pm, there is a basketball game!\",\n",
    "                  \"Thursday: Be back home by 11:15 pm at the latest.\",\n",
    "                  \"Friday: Take the train at 08:10 am, arrive at 09:00am.\"]\n",
    "\n",
    "df = pd.DataFrame(time_sentences, columns=['text'])\n",
    "df"
   ],
   "metadata": {
    "collapsed": false,
    "pycharm": {
     "name": "#%%\n"
    }
   }
  }
 ],
 "metadata": {
  "kernelspec": {
   "display_name": "Python 3",
   "language": "python",
   "name": "python3"
  },
  "language_info": {
   "codemirror_mode": {
    "name": "ipython",
    "version": 2
   },
   "file_extension": ".py",
   "mimetype": "text/x-python",
   "name": "python",
   "nbconvert_exporter": "python",
   "pygments_lexer": "ipython2",
   "version": "2.7.6"
  }
 },
 "nbformat": 4,
 "nbformat_minor": 0
}