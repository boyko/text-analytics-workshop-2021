{
 "cells": [
  {
   "cell_type": "markdown",
   "metadata": {},
   "source": [
    "# Case Study: Sentiment Analysis"
   ]
  },
  {
   "cell_type": "markdown",
   "metadata": {
    "pycharm": {
     "is_executing": false,
     "name": "#%% md\n"
    }
   },
   "source": [
    "### Setup\n",
    "\n",
    "Import modules, read data"
   ]
  },
  {
   "cell_type": "code",
   "execution_count": 27,
   "metadata": {
    "pycharm": {
     "is_executing": false,
     "name": "#%%\n"
    }
   },
   "outputs": [
    {
     "data": {
      "text/plain": [
       "0     Very good one! Better than Samsung S and iphon...\n",
       "1     The phone needed a SIM card, would have been n...\n",
       "2     I was 3 months away from my upgrade and my Str...\n",
       "3                        an experience i want to forget\n",
       "4           GREAT PHONE WORK ACCORDING MY EXPECTATIONS.\n",
       "5     I fell in love with this phone because it did ...\n",
       "6     I am pleased with this Blackberry phone! The p...\n",
       "7     Great product, best value for money smartphone...\n",
       "8                 except samsung pay everything is good\n",
       "9             I've bought 3 no problems. Fast delivery.\n",
       "10                         Great phone for the price...\n",
       "11    My mom is not good with new technoloy but this...\n",
       "12    The charger didnt work, I suppose that it mean...\n",
       "13    I loved it and thanks so much because you made...\n",
       "14    Amazing phone especially for the price. I love...\n",
       "15        thanks... excellent...love my iphone 4s used.\n",
       "16    I purchase it for my friend, she like it alot ...\n",
       "17    I generally dont write reviews but this phone ...\n",
       "18    I bought this phone for my mom and sent it to ...\n",
       "19                                         got me going\n",
       "Name: Reviews, dtype: object"
      ]
     },
     "execution_count": 27,
     "metadata": {},
     "output_type": "execute_result"
    }
   ],
   "source": [
    "import pandas as pd\n",
    "import numpy as np\n",
    "import seaborn as sns\n",
    "from sklearn.model_selection import train_test_split\n",
    "from sklearn.feature_extraction.text import CountVectorizer\n",
    "from sklearn.linear_model import LogisticRegression\n",
    "from sklearn.metrics import roc_auc_score, roc_curve\n",
    "from sklearn.feature_extraction.text import TfidfVectorizer\n",
    "import matplotlib.pyplot as plt\n",
    "\n",
    "sns.set()\n",
    "\n",
    "# Read in the data\n",
    "df = pd.read_csv('./data/reviews.csv')\n",
    "# Sample the data to speed up computation\n",
    "# Comment out this line to match with lecture\n",
    "\n",
    "df[\"Reviews\"].head(20)\n"
   ]
  },
  {
   "cell_type": "code",
   "execution_count": 55,
   "metadata": {
    "pycharm": {
     "is_executing": false,
     "name": "#%%\n"
    },
    "scrolled": true
   },
   "outputs": [
    {
     "data": {
      "text/plain": [
       "1     The phone needed a SIM card, would have been n...\n",
       "2     I was 3 months away from my upgrade and my Str...\n",
       "3                        an experience i want to forget\n",
       "4           GREAT PHONE WORK ACCORDING MY EXPECTATIONS.\n",
       "5     I fell in love with this phone because it did ...\n",
       "6     I am pleased with this Blackberry phone! The p...\n",
       "7     Great product, best value for money smartphone...\n",
       "9             I've bought 3 no problems. Fast delivery.\n",
       "10                         Great phone for the price...\n",
       "11    My mom is not good with new technoloy but this...\n",
       "12    The charger didnt work, I suppose that it mean...\n",
       "13    I loved it and thanks so much because you made...\n",
       "14    Amazing phone especially for the price. I love...\n",
       "16    I purchase it for my friend, she like it alot ...\n",
       "17    I generally dont write reviews but this phone ...\n",
       "18    I bought this phone for my mom and sent it to ...\n",
       "19                                         got me going\n",
       "20    Happy to be back! I broke my Lumia 1520.3 and ...\n",
       "21    This phone is amazing. Beautiful camera qualit...\n",
       "22    The cell didn't work more than one months. It ...\n",
       "23                             The camera does not work\n",
       "24    The phone looks nice and attractive but I can'...\n",
       "25    Storm 9530 purchase 3 wks ago not working anym...\n",
       "26    person I bought it for thought it was a nice p...\n",
       "27    The was wonderful but the power button stopped...\n",
       "28    This phone has been pretty disappointing for m...\n",
       "29    This is a nice phone, only two things disappoi...\n",
       "31    Phone was NOT NEW as described. Phone stopped ...\n",
       "32    The phone display stopped working in 6 months ...\n",
       "35    Gets too hot and battery life doesn't last mor...\n",
       "36    Bad experience.The stop working 5 days a go I ...\n",
       "37                                                 GOOD\n",
       "38    Did exactly what it was supposed to do. Previo...\n",
       "39    Excellent Phone!... Fast, can take a \"loading\"...\n",
       "40                                   excelente producto\n",
       "41              The phone broke a month after having it\n",
       "42                                good phoneworks great\n",
       "43    It would be hard to find a comparable device f...\n",
       "44    Excellent phone, Only minor issue is getting b...\n",
       "45    We bought this watch 2 months ago and it alrea...\n",
       "46    The phone is ok apple could've done better wit...\n",
       "47    this is a great phone I did a lot of research ...\n",
       "48                                            excelente\n",
       "49    Happy with the phone, the product is as descri...\n",
       "53    Simply excellent, very responsive to touch, ea...\n",
       "54    I'm so in love with my new phone. I watched an...\n",
       "55    The watch is internally set for GMT in which N...\n",
       "60                                     would buy again.\n",
       "61    Im loving it....So far it works very good no p...\n",
       "62                                                 Good\n",
       "Name: Reviews, dtype: object"
      ]
     },
     "execution_count": 55,
     "metadata": {},
     "output_type": "execute_result"
    }
   ],
   "source": [
    "# Remove missing values\n",
    "df.dropna(inplace=True)\n",
    "\n",
    "# Drop reviews with neutral ratings\n",
    "df = df[df['Rating'] != 3]\n",
    "\n",
    "\"Super! No problem with the phone\"\n",
    "\"Many problems with the phone\"\n",
    "\n",
    "# Map ratings 4 and 5 to \"positive\" \n",
    "# Map ratings 1 and 2 to \"negative\"\n",
    "df['Positively Rated'] = np.where(df['Rating'] > 3, 1, 0)\n",
    "df.Reviews.head(50)"
   ]
  },
  {
   "cell_type": "code",
   "execution_count": 29,
   "metadata": {
    "pycharm": {
     "is_executing": false,
     "name": "#%%\n"
    }
   },
   "outputs": [
    {
     "data": {
      "text/plain": [
       "0.7475328055525431"
      ]
     },
     "execution_count": 29,
     "metadata": {},
     "output_type": "execute_result"
    }
   ],
   "source": [
    "# Most ratings are positive\n",
    "df['Positively Rated'].mean()"
   ]
  },
  {
   "cell_type": "code",
   "execution_count": 30,
   "metadata": {
    "pycharm": {
     "is_executing": false,
     "name": "#%%\n"
    }
   },
   "outputs": [],
   "source": [
    "\n",
    "# Split data into training and test sets\n",
    "X_train, X_test, y_train, y_test = train_test_split(df['Reviews'], \n",
    "                                                    df['Positively Rated'], \n",
    "                                                    random_state=0)"
   ]
  },
  {
   "cell_type": "code",
   "execution_count": 31,
   "metadata": {
    "pycharm": {
     "is_executing": false,
     "name": "#%%\n"
    }
   },
   "outputs": [
    {
     "name": "stdout",
     "output_type": "stream",
     "text": [
      "X_train first entry:\n",
      "\n",
      " my daughter loves this phone,thanks\n",
      "\n",
      "\n",
      "X_train shape:  (27663,)\n"
     ]
    }
   ],
   "source": [
    "print('X_train first entry:\\n\\n', X_train.iloc[0])\n",
    "print('\\n\\nX_train shape: ', X_train.shape)"
   ]
  },
  {
   "cell_type": "markdown",
   "metadata": {
    "pycharm": {
     "is_executing": false,
     "name": "#%% md\n"
    }
   },
   "source": [
    "# CountVectorizer"
   ]
  },
  {
   "cell_type": "code",
   "execution_count": 32,
   "metadata": {
    "pycharm": {
     "is_executing": false,
     "name": "#%%\n"
    }
   },
   "outputs": [],
   "source": [
    "\n",
    "# Fit the CountVectorizer to the training data\n",
    "vect = CountVectorizer().fit(X_train)"
   ]
  },
  {
   "cell_type": "code",
   "execution_count": 33,
   "metadata": {
    "pycharm": {
     "name": "#%%\n"
    }
   },
   "outputs": [
    {
     "data": {
      "text/plain": [
       "array(['00', '8hrs', 'anti', 'biometric', 'chao', 'costco', 'dinamico',\n",
       "       'envió', 'flicking', 'guadalajara', 'increment', 'launch', 'mgpx',\n",
       "       'object', 'phonen', 'purposes', 'responded', 'sharing', 'steffy',\n",
       "       'thinn', 'updating', 'work4'], dtype=object)"
      ]
     },
     "execution_count": 33,
     "metadata": {},
     "output_type": "execute_result"
    }
   ],
   "source": [
    "feature_names = vect.get_feature_names_out()\n",
    "feature_names[::1000]\n",
    "# vect.get_feature_names()[::2000]"
   ]
  },
  {
   "cell_type": "markdown",
   "metadata": {},
   "source": [
    "Number of features generated"
   ]
  },
  {
   "cell_type": "code",
   "execution_count": 34,
   "metadata": {
    "pycharm": {
     "is_executing": false,
     "name": "#%%\n"
    }
   },
   "outputs": [
    {
     "data": {
      "text/plain": [
       "21344"
      ]
     },
     "execution_count": 34,
     "metadata": {},
     "output_type": "execute_result"
    }
   ],
   "source": [
    "len(vect.get_feature_names_out())"
   ]
  },
  {
   "cell_type": "code",
   "execution_count": 35,
   "metadata": {
    "pycharm": {
     "is_executing": false,
     "name": "#%%\n"
    }
   },
   "outputs": [
    {
     "data": {
      "text/plain": [
       "<27663x21344 sparse matrix of type '<class 'numpy.int64'>'\n",
       "\twith 733003 stored elements in Compressed Sparse Row format>"
      ]
     },
     "execution_count": 35,
     "metadata": {},
     "output_type": "execute_result"
    }
   ],
   "source": [
    "# transform the documents in the training data to a document-term matrix\n",
    "X_train_vectorized = vect.transform(X_train)\n",
    "X_train_vectorized"
   ]
  },
  {
   "cell_type": "code",
   "execution_count": 36,
   "metadata": {
    "pycharm": {
     "is_executing": false,
     "name": "#%%\n"
    }
   },
   "outputs": [
    {
     "data": {
      "text/plain": [
       "LogisticRegression(max_iter=500)"
      ]
     },
     "execution_count": 36,
     "metadata": {},
     "output_type": "execute_result"
    }
   ],
   "source": [
    "# Train the model\n",
    "logreg = LogisticRegression(max_iter=500)\n",
    "logreg.fit(X_train_vectorized, y_train)"
   ]
  },
  {
   "cell_type": "markdown",
   "metadata": {},
   "source": [
    "Compute the ROC curve and plot it. Compute the area under the ROC curve."
   ]
  },
  {
   "cell_type": "code",
   "execution_count": 51,
   "metadata": {
    "pycharm": {
     "is_executing": false,
     "name": "#%%\n"
    }
   },
   "outputs": [
    {
     "name": "stdout",
     "output_type": "stream",
     "text": [
      "AUC:  0.895430723112348\n"
     ]
    },
    {
     "data": {
      "image/png": "[encoded data removed]",
      "text/plain": [
       "<Figure size 432x288 with 1 Axes>"
      ]
     },
     "metadata": {},
     "output_type": "display_data"
    }
   ],
   "source": [
    "# Predict the transformed test documents\n",
    "predictions = logreg.predict(vect.transform(X_test))\n",
    "logreg_probs = logreg.predict_proba(vect.transform(X_test))\n",
    "logreg_positive_probs = [p[1] for p in logreg_probs]\n",
    "\n",
    "fpr, tpr, thresholds = roc_curve(y_test, logreg_positive_probs)\n",
    "\n",
    "## Predicted probabilities from the logistic regression model\n",
    "print('AUC: ', roc_auc_score(y_test, predictions))\n",
    "\n",
    "def plot_roc(fpr, tpr):\n",
    "    plt.plot(fpr, tpr, color='orange', label='ROC')\n",
    "    plt.plot([0, 1], [0, 1], color='black', linestyle='--')\n",
    "    plt.xlabel('False Positive Rate')\n",
    "    plt.ylabel('True Positive Rate')\n",
    "    plt.title('Logistic regression model: ROC curve')\n",
    "    plt.legend()\n",
    "    plt.show()\n",
    "    \n",
    "plot_roc(fpr, tpr)"
   ]
  },
  {
   "cell_type": "code",
   "execution_count": 38,
   "metadata": {
    "pycharm": {
     "is_executing": false,
     "name": "#%%\n"
    },
    "scrolled": true
   },
   "outputs": [
    {
     "name": "stdout",
     "output_type": "stream",
     "text": [
      "Smallest Coefs:\n",
      "['worst' 'terrible' 'waste' 'junk' 'sucks' 'horrible' 'broken' 'slow'\n",
      " 'useless' 'poor']\n",
      "\n",
      "Largest Coefs: \n",
      "['excelent' 'excelente' 'excellent' 'love' 'perfect' 'loves' 'perfectly'\n",
      " 'great' 'amazing' 'wonderful']\n"
     ]
    }
   ],
   "source": [
    "# get the feature names as numpy array\n",
    "feature_names = np.array(vect.get_feature_names_out())\n",
    "\n",
    "# Sort the coefficients from the model\n",
    "sorted_coef_index = logreg.coef_[0].argsort()\n",
    "\n",
    "# Find the 10 smallest and 10 largest coefficients\n",
    "# The 10 largest coefficients are being indexed using [:-11:-1] \n",
    "# so the list returned is in order of largest to smallest\n",
    "print('Smallest Coefs:\\n{}\\n'.format(feature_names[sorted_coef_index[:10]]))\n",
    "print('Largest Coefs: \\n{}'.format(feature_names[sorted_coef_index[:-11:-1]]))"
   ]
  },
  {
   "cell_type": "markdown",
   "metadata": {},
   "source": [
    "# TF-IDF\n",
    "\n",
    "Fit another logistic regression model. This time vectorize using the DF-IDF vectorization."
   ]
  },
  {
   "cell_type": "code",
   "execution_count": 44,
   "metadata": {
    "pycharm": {
     "is_executing": false,
     "name": "#%%\n"
    }
   },
   "outputs": [
    {
     "data": {
      "text/plain": [
       "5820"
      ]
     },
     "execution_count": 44,
     "metadata": {},
     "output_type": "execute_result"
    }
   ],
   "source": [
    "import nltk\n",
    "stopwords_en = nltk.corpus.stopwords.words(\"english\")\n",
    "\n",
    "# Fit the TfidfVectorizer to the training data specifiying a minimum document frequency of 5\n",
    "idf_vect = TfidfVectorizer(\n",
    "    lowercase=True,\n",
    "    stop_words=stopwords_en,\n",
    "    min_df=5\n",
    ").fit(X_train)\n",
    "len(idf_vect.get_feature_names_out())"
   ]
  },
  {
   "cell_type": "code",
   "execution_count": 52,
   "metadata": {
    "pycharm": {
     "is_executing": false,
     "name": "#%%\n"
    },
    "scrolled": true
   },
   "outputs": [
    {
     "name": "stdout",
     "output_type": "stream",
     "text": [
      "AUC:  0.895430723112348\n"
     ]
    }
   ],
   "source": [
    "X_train_vectorized_idf = idf_vect.transform(X_train)\n",
    "\n",
    "model = LogisticRegression(max_iter=500)\n",
    "model.fit(X_train_vectorized_idf, y_train)\n",
    "\n",
    "predictions_idf = model.predict(idf_vect.transform(X_test))\n",
    "\n",
    "roc_score = roc_auc_score(y_test, predictions_idf)\n",
    "roc_score\n",
    "\n",
    "print('AUC: ', roc_auc_score(y_test, predictions))\n",
    "\n",
    "#roc_curve()"
   ]
  },
  {
   "cell_type": "code",
   "execution_count": 53,
   "metadata": {
    "pycharm": {
     "is_executing": false,
     "name": "#%%\n"
    },
    "scrolled": true
   },
   "outputs": [
    {
     "name": "stdout",
     "output_type": "stream",
     "text": [
      "Smallest tfidf:\n",
      "['judicious' 'outsources' 'outsourced' 'outsource' 'outsmarts' 'outshines'\n",
      " 'outshine' 'outstand' 'outset' 'outright']\n",
      "\n",
      "Largest tfidf: \n",
      "['the' 'and' 'this' 'to' 'it' 'is' 'phone' 'you' 'iphone' 'for']\n"
     ]
    }
   ],
   "source": [
    "feature_names = np.array(vect.get_feature_names_out())\n",
    "\n",
    "sorted_tfidf_index = X_train_vectorized.max(0).toarray()[0].argsort()\n",
    "\n",
    "print('Smallest tfidf:\\n{}\\n'.format(feature_names[sorted_tfidf_index[:10]]))\n",
    "print('Largest tfidf: \\n{}'.format(feature_names[sorted_tfidf_index[:-11:-1]]))"
   ]
  },
  {
   "cell_type": "code",
   "execution_count": 48,
   "metadata": {
    "pycharm": {
     "is_executing": false,
     "name": "#%%\n"
    }
   },
   "outputs": [
    {
     "name": "stdout",
     "output_type": "stream",
     "text": [
      "Smallest Coefs:\n",
      "['clunker' 'descrito' 'dejo' 'connecting' 'credits' 'affected' 'descent'\n",
      " 'aweek' 'cargador' 'bro']\n",
      "\n",
      "Largest Coefs: \n",
      "['atd' 'blackberrry' 'amplet' 'camer' '45min' 'anomaly' 'blackberryworld'\n",
      " '24' 'assets' 'amper']\n"
     ]
    }
   ],
   "source": [
    "sorted_coef_index = model.coef_[0].argsort()\n",
    "\n",
    "print('Smallest Coefs:\\n{}\\n'.format(feature_names[sorted_coef_index[:10]]))\n",
    "print('Largest Coefs: \\n{}'.format(feature_names[sorted_coef_index[:-11:-1]]))"
   ]
  },
  {
   "cell_type": "code",
   "execution_count": 17,
   "metadata": {
    "pycharm": {
     "is_executing": false,
     "name": "#%%\n"
    }
   },
   "outputs": [
    {
     "name": "stdout",
     "output_type": "stream",
     "text": [
      "[0 0]\n"
     ]
    }
   ],
   "source": [
    "# These reviews are treated the same by our current model\n",
    "print(model.predict(idf_vect.transform(['not an issue, phone is working',\n",
    "                                    'an issue, phone is not working'])))"
   ]
  },
  {
   "cell_type": "markdown",
   "metadata": {},
   "source": [
    "# N-grams\n",
    "\n",
    "Fit a third logistic regression model using the TF-IDF vectorization. This time include\n",
    "bi-grams as features and exclude features with document frequency less than 5."
   ]
  },
  {
   "cell_type": "code",
   "execution_count": 18,
   "metadata": {
    "pycharm": {
     "is_executing": false,
     "name": "#%%\n"
    }
   },
   "outputs": [
    {
     "data": {
      "text/plain": [
       "33529"
      ]
     },
     "execution_count": 18,
     "metadata": {},
     "output_type": "execute_result"
    }
   ],
   "source": [
    "# Fit the CountVectorizer to the training data specifiying a minimum \n",
    "# document frequency of 5 and extracting 1-grams and 2-grams\n",
    "vect = CountVectorizer(min_df=5, ngram_range=(1,2)).fit(X_train)\n",
    "\n",
    "X_train_vectorized = vect.transform(X_train)\n",
    "\n",
    "len(vect.get_feature_names())"
   ]
  },
  {
   "cell_type": "code",
   "execution_count": 19,
   "metadata": {
    "pycharm": {
     "is_executing": false,
     "name": "#%%\n"
    }
   },
   "outputs": [
    {
     "name": "stderr",
     "output_type": "stream",
     "text": [
      "/home/amarov/proj/taw2019/lib/python3.5/site-packages/sklearn/linear_model/logistic.py:432: FutureWarning: Default solver will be changed to 'lbfgs' in 0.22. Specify a solver to silence this warning.\n",
      "  FutureWarning)\n"
     ]
    },
    {
     "name": "stdout",
     "output_type": "stream",
     "text": [
      "AUC:  0.9167459691585975\n"
     ]
    }
   ],
   "source": [
    "model = LogisticRegression()\n",
    "model.fit(X_train_vectorized, y_train)\n",
    "\n",
    "predictions = model.predict(vect.transform(X_test))\n",
    "\n",
    "print('AUC: ', roc_auc_score(y_test, predictions))"
   ]
  },
  {
   "cell_type": "code",
   "execution_count": 20,
   "metadata": {
    "pycharm": {
     "is_executing": false,
     "name": "#%%\n"
    }
   },
   "outputs": [
    {
     "name": "stdout",
     "output_type": "stream",
     "text": [
      "Smallest Coefs:\n",
      "['junk' 'worst' 'no good' 'not good' 'poor' 'broken' 'terrible' 'sucks'\n",
      " 'horrible' 'slow']\n",
      "\n",
      "Largest Coefs: \n",
      "['excellent' 'excelente' 'excelent' 'perfect' 'great' 'not bad' 'love'\n",
      " 'no problems' 'awesome' 'amazing']\n"
     ]
    }
   ],
   "source": [
    "feature_names = np.array(vect.get_feature_names())\n",
    "\n",
    "sorted_coef_index = model.coef_[0].argsort()\n",
    "\n",
    "print('Smallest Coefs:\\n{}\\n'.format(feature_names[sorted_coef_index[:10]]))\n",
    "print('Largest Coefs: \\n{}'.format(feature_names[sorted_coef_index[:-11:-1]]))"
   ]
  },
  {
   "cell_type": "code",
   "execution_count": 21,
   "metadata": {
    "pycharm": {
     "is_executing": false,
     "name": "#%%\n"
    }
   },
   "outputs": [
    {
     "name": "stdout",
     "output_type": "stream",
     "text": [
      "[0 0]\n"
     ]
    }
   ],
   "source": [
    "# These reviews are now correctly identified\n",
    "print(model.predict(vect.transform(['not an issue, phone is working',\n",
    "                                    'an issue, phone is not working'])))"
   ]
  }
 ],
 "metadata": {
  "kernelspec": {
   "display_name": "Python 3 (ipykernel)",
   "language": "python",
   "name": "python3"
  },
  "language_info": {
   "codemirror_mode": {
    "name": "ipython",
    "version": 3
   },
   "file_extension": ".py",
   "mimetype": "text/x-python",
   "name": "python",
   "nbconvert_exporter": "python",
   "pygments_lexer": "ipython3",
   "version": "3.7.7"
  }
 },
 "nbformat": 4,
 "nbformat_minor": 1
}