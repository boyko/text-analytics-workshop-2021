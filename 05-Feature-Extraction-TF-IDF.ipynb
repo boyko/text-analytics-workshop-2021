{
 "cells": [
  {
   "cell_type": "code",
   "execution_count": 2,
   "metadata": {
    "pycharm": {
     "name": "#%%\n"
    }
   },
   "outputs": [],
   "source": [
    "import pandas as pd\n",
    "import sklearn\n",
    "import numpy as np\n",
    "from sklearn.feature_extraction.text import TfidfVectorizer, CountVectorizer\n"
   ]
  },
  {
   "cell_type": "markdown",
   "metadata": {},
   "source": [
    "## Feature extraction\n",
    "\n",
    "1. Traditional techniques\n",
    "    - Bag of N-Grams\n",
    "    - TF-IDF model\n",
    "2. Deep-learning based techniques\n",
    "    - Word2Vec\n",
    "    - Glove\n",
    "    - FastText\n"
   ]
  },
  {
   "cell_type": "markdown",
   "metadata": {},
   "source": [
    "### The traditional approach\n",
    "\n",
    "As machine learning algorithms can only deal with numeric data we need to find a way to map\n",
    "text documents to a representation in a numeric space. The traditional approach to create such\n",
    "a map has been to create a vocabulary of the words (or a subset of the words) encountered in a corpus and\n",
    "map each word to a one hot encoded vectors of the dimension of the vocabulary.\n",
    "\n",
    "Consider a very small example of three documents containing a tiny vocabulary of just three words\n",
    "\n",
    "$$\n",
    "\\text{doc1} = [\\text{boy}, \\text{mouse}] \\\\\n",
    "\\text{doc2} = [\\text{mouse}] \\\\\n",
    "\\text{doc3} = [\\text{zoo}, \\text{boy}]\\\\\n",
    "\\text{doc4} = [\\text{zoo}, \\text{boy}, \\text{zoo}]\n",
    "$$\n",
    "\n",
    "Consider the a very simple example with a vocabulary \\[\"boy\", \"mouse\", \"zoo\"\\]. One hot encoding each word will result in the following three vectors\n",
    "\n",
    "$$\n",
    "\\text{boy} \\to\n",
    "\\left(\n",
    "    \\begin{array}{c}\n",
    "        1 \\\\\n",
    "        0\\\\\n",
    "        0\n",
    "    \\end{array}\n",
    "\\right)\n",
    "\\quad\n",
    "\\text{mouse} \\to\n",
    "\\left(\n",
    "    \\begin{array}{c}\n",
    "        0 \\\\\n",
    "        1\\\\\n",
    "        0\n",
    "    \\end{array}\n",
    "\\right)\n",
    "\\quad\n",
    "\\text{zoo} \\to\n",
    "\\left(\n",
    "    \\begin{array}{c}\n",
    "        0 \\\\\n",
    "        0\\\\\n",
    "        1\n",
    "    \\end{array}\n",
    "\\right)\n",
    "$$\n",
    "\n",
    "XXX Depending on how we combine the word vectors to a document vector.\n",
    "There are numerous possibilities to represent the documents in the a three dimensional space. A simple option is to sum the vectors in each document. This is what the the `CountVectorizer` does: the result is a $3 \\times 3$ matrix of\n"
   ]
  },
  {
   "cell_type": "code",
   "execution_count": 3,
   "metadata": {
    "pycharm": {
     "name": "#%%\n"
    }
   },
   "outputs": [],
   "source": [
    "toy_corpus = [\n",
    "    \"boy mouse boy\",\n",
    "    \"mouse\",\n",
    "    \"zoo boy\",\n",
    "    \"zoo boy zoo\"\n",
    "]"
   ]
  },
  {
   "cell_type": "code",
   "execution_count": 4,
   "metadata": {
    "pycharm": {
     "name": "#%%\n"
    }
   },
   "outputs": [],
   "source": [
    "c_vect = CountVectorizer()\n",
    "term_matrix = c_vect.fit_transform(toy_corpus)"
   ]
  },
  {
   "cell_type": "code",
   "execution_count": 5,
   "metadata": {
    "pycharm": {
     "name": "#%%\n"
    }
   },
   "outputs": [
    {
     "data": {
      "text/plain": [
       "{'boy': 0, 'mouse': 1, 'zoo': 2}"
      ]
     },
     "execution_count": 5,
     "metadata": {},
     "output_type": "execute_result"
    }
   ],
   "source": [
    "## Check the vocabulary learned from the corpus\n",
    "c_vect.vocabulary_"
   ]
  },
  {
   "cell_type": "code",
   "execution_count": 6,
   "metadata": {
    "pycharm": {
     "name": "#%%\n"
    }
   },
   "outputs": [
    {
     "data": {
      "text/plain": [
       "array(['boy', 'mouse', 'zoo'], dtype=object)"
      ]
     },
     "execution_count": 6,
     "metadata": {},
     "output_type": "execute_result"
    }
   ],
   "source": [
    "## Check the extracted features\n",
    "c_vect.get_feature_names_out()"
   ]
  },
  {
   "cell_type": "code",
   "execution_count": 7,
   "metadata": {
    "pycharm": {
     "name": "#%%\n"
    }
   },
   "outputs": [
    {
     "data": {
      "text/html": [
       "<div>\n",
       "<style scoped>\n",
       "    .dataframe tbody tr th:only-of-type {\n",
       "        vertical-align: middle;\n",
       "    }\n",
       "\n",
       "    .dataframe tbody tr th {\n",
       "        vertical-align: top;\n",
       "    }\n",
       "\n",
       "    .dataframe thead th {\n",
       "        text-align: right;\n",
       "    }\n",
       "</style>\n",
       "<table border=\"1\" class=\"dataframe\">\n",
       "  <thead>\n",
       "    <tr style=\"text-align: right;\">\n",
       "      <th></th>\n",
       "      <th>boy</th>\n",
       "      <th>mouse</th>\n",
       "      <th>zoo</th>\n",
       "    </tr>\n",
       "  </thead>\n",
       "  <tbody>\n",
       "    <tr>\n",
       "      <th>doc1</th>\n",
       "      <td>2</td>\n",
       "      <td>1</td>\n",
       "      <td>0</td>\n",
       "    </tr>\n",
       "    <tr>\n",
       "      <th>doc2</th>\n",
       "      <td>0</td>\n",
       "      <td>1</td>\n",
       "      <td>0</td>\n",
       "    </tr>\n",
       "    <tr>\n",
       "      <th>doc3</th>\n",
       "      <td>1</td>\n",
       "      <td>0</td>\n",
       "      <td>1</td>\n",
       "    </tr>\n",
       "    <tr>\n",
       "      <th>doc4</th>\n",
       "      <td>1</td>\n",
       "      <td>0</td>\n",
       "      <td>2</td>\n",
       "    </tr>\n",
       "  </tbody>\n",
       "</table>\n",
       "</div>"
      ],
      "text/plain": [
       "      boy  mouse  zoo\n",
       "doc1    2      1    0\n",
       "doc2    0      1    0\n",
       "doc3    1      0    1\n",
       "doc4    1      0    2"
      ]
     },
     "execution_count": 7,
     "metadata": {},
     "output_type": "execute_result"
    }
   ],
   "source": [
    "## Check the document representation\n",
    "term_matrix_dense = term_matrix.toarray()\n",
    "term_matrix_dense\n",
    "pd.DataFrame(term_matrix_dense,\n",
    "             columns=c_vect.get_feature_names_out(),\n",
    "             index=[f\"doc{i}\" for i in range(1, len(toy_corpus) + 1)]\n",
    "             )"
   ]
  },
  {
   "cell_type": "markdown",
   "metadata": {},
   "source": [
    "Often another aggregation of the word vectors is preferred, where\n",
    "the counts are weighted by the inverse document frequency.\n",
    "\n",
    "**Term frequency** ($TF(i)$) is the number of occurrences of word $i$ in document $D$. It depends strongly\n",
    "on how general a word is (e.g. \"has\" vs. \"hexoxide\" in general literature) and on the length of the document.\n",
    "\n",
    "**Document frequency** ($DF(i)$ is the number of documents that contain word $i$.\n",
    "\n",
    "**Inverse document frequency** ($IDF(i)$ is simply the the inverse relative frequency of the word in the set of documents.\n",
    "With $N$ documents the IDF is given by:\n",
    "\n",
    "$$\n",
    "    IDF(i) = \\frac{N}{DF(i)}\n",
    "$$\n",
    "\n",
    "It is large for words that occur on many documents and it will be small for words that appear in only a few documents.\n",
    "\n",
    "A problem with this definition is that the IDF becomes very large for large corpora (large N) so it is commonly replaced\n",
    "by its the logarithm.\n",
    "\n",
    "$$\n",
    "    IDF(i) = 1 + \\log\\left(\\frac{N}{DF(i)}\\right)\n",
    "$$\n",
    "\n",
    "The addition of 1 in the above equation serves to ensure that the words that occur in all documents are not entirely discarded. The default IDF used in `TfidfVectorizer` is:\n",
    "\n",
    "$$\n",
    "    IDF(i) = 1 + \\log\\left(\\frac{N + 1}{DF(i) + 1}\\right)\n",
    "$$\n",
    "\n",
    "$$\n",
    "    \\text{TF-IDF}(i, d) = TF(i, d) \\times IDF(i)\n",
    "$$\n",
    "\n",
    "Let us calculate the document frequencies from the term density matrix we just created:"
   ]
  },
  {
   "cell_type": "code",
   "execution_count": 8,
   "metadata": {
    "pycharm": {
     "name": "#%%\n"
    }
   },
   "outputs": [
    {
     "data": {
      "text/html": [
       "<div>\n",
       "<style scoped>\n",
       "    .dataframe tbody tr th:only-of-type {\n",
       "        vertical-align: middle;\n",
       "    }\n",
       "\n",
       "    .dataframe tbody tr th {\n",
       "        vertical-align: top;\n",
       "    }\n",
       "\n",
       "    .dataframe thead th {\n",
       "        text-align: right;\n",
       "    }\n",
       "</style>\n",
       "<table border=\"1\" class=\"dataframe\">\n",
       "  <thead>\n",
       "    <tr style=\"text-align: right;\">\n",
       "      <th></th>\n",
       "      <th>0</th>\n",
       "    </tr>\n",
       "  </thead>\n",
       "  <tbody>\n",
       "    <tr>\n",
       "      <th>boy</th>\n",
       "      <td>3</td>\n",
       "    </tr>\n",
       "    <tr>\n",
       "      <th>mouse</th>\n",
       "      <td>2</td>\n",
       "    </tr>\n",
       "    <tr>\n",
       "      <th>zoo</th>\n",
       "      <td>2</td>\n",
       "    </tr>\n",
       "  </tbody>\n",
       "</table>\n",
       "</div>"
      ],
      "text/plain": [
       "       0\n",
       "boy    3\n",
       "mouse  2\n",
       "zoo    2"
      ]
     },
     "execution_count": 8,
     "metadata": {},
     "output_type": "execute_result"
    }
   ],
   "source": [
    "## First we limit the elements of the matrix to a maximum of 1,\n",
    "## and the sum the matrix column-wise\n",
    "doc_frequencies = np.clip(term_matrix_dense, None, 1).sum(axis=0)\n",
    "\n",
    "pd.DataFrame(doc_frequencies, index=c_vect.get_feature_names_out())\n"
   ]
  },
  {
   "cell_type": "markdown",
   "metadata": {},
   "source": [
    "From here we see that \"boy\" has a document frequency of 3 and that both \"mouse\" and \"zoo\" occur in two documents.\n",
    "The relative frequency of \"boy\" is 3/4.\n"
   ]
  },
  {
   "cell_type": "code",
   "execution_count": 9,
   "metadata": {
    "pycharm": {
     "name": "#%%\n"
    }
   },
   "outputs": [
    {
     "name": "stdout",
     "output_type": "stream",
     "text": [
      "1.2876820724517808\n",
      "1.2231435513142097\n"
     ]
    }
   ],
   "source": [
    "import math\n",
    "\n",
    "print(math.log(4 / 3) + 1)\n",
    "print(math.log(5 / 4) + 1)"
   ]
  },
  {
   "cell_type": "code",
   "execution_count": 12,
   "metadata": {
    "pycharm": {
     "name": "#%%\n"
    }
   },
   "outputs": [
    {
     "data": {
      "text/plain": [
       "array([1.22314355, 1.51082562, 1.51082562])"
      ]
     },
     "execution_count": 12,
     "metadata": {},
     "output_type": "execute_result"
    }
   ],
   "source": [
    "tfidf_vect = TfidfVectorizer(smooth_idf=True, use_idf=True, norm=None)\n",
    "tfidf_term_matrix = tfidf_vect.fit_transform(toy_corpus)\n",
    "tfidf_vect.idf_"
   ]
  },
  {
   "cell_type": "code",
   "execution_count": 11,
   "metadata": {
    "pycharm": {
     "name": "#%%\n"
    }
   },
   "outputs": [
    {
     "data": {
      "text/html": [
       "<div>\n",
       "<style scoped>\n",
       "    .dataframe tbody tr th:only-of-type {\n",
       "        vertical-align: middle;\n",
       "    }\n",
       "\n",
       "    .dataframe tbody tr th {\n",
       "        vertical-align: top;\n",
       "    }\n",
       "\n",
       "    .dataframe thead th {\n",
       "        text-align: right;\n",
       "    }\n",
       "</style>\n",
       "<table border=\"1\" class=\"dataframe\">\n",
       "  <thead>\n",
       "    <tr style=\"text-align: right;\">\n",
       "      <th></th>\n",
       "      <th>boy</th>\n",
       "      <th>mouse</th>\n",
       "      <th>zoo</th>\n",
       "    </tr>\n",
       "  </thead>\n",
       "  <tbody>\n",
       "    <tr>\n",
       "      <th>doc1</th>\n",
       "      <td>2.575364</td>\n",
       "      <td>1.693147</td>\n",
       "      <td>0.000000</td>\n",
       "    </tr>\n",
       "    <tr>\n",
       "      <th>doc2</th>\n",
       "      <td>0.000000</td>\n",
       "      <td>1.693147</td>\n",
       "      <td>0.000000</td>\n",
       "    </tr>\n",
       "    <tr>\n",
       "      <th>doc3</th>\n",
       "      <td>1.287682</td>\n",
       "      <td>0.000000</td>\n",
       "      <td>1.693147</td>\n",
       "    </tr>\n",
       "    <tr>\n",
       "      <th>doc4</th>\n",
       "      <td>1.287682</td>\n",
       "      <td>0.000000</td>\n",
       "      <td>3.386294</td>\n",
       "    </tr>\n",
       "  </tbody>\n",
       "</table>\n",
       "</div>"
      ],
      "text/plain": [
       "           boy     mouse       zoo\n",
       "doc1  2.575364  1.693147  0.000000\n",
       "doc2  0.000000  1.693147  0.000000\n",
       "doc3  1.287682  0.000000  1.693147\n",
       "doc4  1.287682  0.000000  3.386294"
      ]
     },
     "execution_count": 11,
     "metadata": {},
     "output_type": "execute_result"
    }
   ],
   "source": [
    "pd.DataFrame(tfidf_term_matrix.toarray(),\n",
    "             columns=tfidf_vect.get_feature_names_out(),\n",
    "             index=[f\"doc{i}\" for i in range(1, len(toy_corpus) + 1)]\n",
    "             )"
   ]
  },
  {
   "cell_type": "markdown",
   "metadata": {},
   "source": [
    "## Example\n",
    "\n"
   ]
  },
  {
   "cell_type": "code",
   "execution_count": null,
   "metadata": {
    "pycharm": {
     "name": "#%%\n"
    }
   },
   "outputs": [],
   "source": []
  }
 ],
 "metadata": {
  "kernelspec": {
   "display_name": "Python 3 (ipykernel)",
   "language": "python",
   "name": "python3"
  },
  "language_info": {
   "codemirror_mode": {
    "name": "ipython",
    "version": 3
   },
   "file_extension": ".py",
   "mimetype": "text/x-python",
   "name": "python",
   "nbconvert_exporter": "python",
   "pygments_lexer": "ipython3",
   "version": "3.7.7"
  }
 },
 "nbformat": 4,
 "nbformat_minor": 1
}