{
 "cells": [
  {
   "cell_type": "code",
   "execution_count": 2,
   "metadata": {
    "pycharm": {
     "name": "#%%\n"
    }
   },
   "outputs": [],
   "source": [
    "import numpy as np\n",
    "import nltk\n",
    "import pandas as pd"
   ]
  },
  {
   "cell_type": "markdown",
   "metadata": {},
   "source": [
    "## Word embeddings\n",
    "\n",
    "Word embeddings are dense representations of words in low-dimensional vector spaces.\n"
   ]
  },
  {
   "cell_type": "code",
   "execution_count": null,
   "metadata": {},
   "outputs": [],
   "source": [
    "boy = [0.2, -0.1, 0.4, 0.5]\n",
    "mouse = [-1, 2, 0.2, 1]"
   ]
  },
  {
   "cell_type": "markdown",
   "metadata": {},
   "source": [
    "### Word2Vec\n",
    "\n",
    "The TD-IDF model views a document as a bag of words and discards semantic information. It just counts the presence of words in documents.\n",
    "\n",
    "Word2Vec consists of two algorithms for learning word embeddings.\n",
    "\n",
    "The CBOW model is a single hidden layer neural network that tries to predict a word given its neighbours. The neighbourhood\n",
    "of a target word is defined as a window of length $c$: meaning $c$ neighbours before it and $c$ neighbours after it. The Skip-Gram model tries to predict the neighbourhood from the target word.\n",
    "\n",
    "Let us consider the following sentence:\n",
    "\n",
    "1. _**it** is our_ Harry that show what we truly are\n",
    "2. _it **is** our Harry_ that show what we truly are\n",
    "3. _it is **our** Harry that_ show what we truly are\n",
    "4. it is our **Harry** that show what we truly are\n",
    "5. it is our Harry **that** show what we truly are\n",
    "6. it is our Harry **that** show what we truly are\n",
    "7. it is our Harry that **show** what we truly are\n",
    "8. it is our Harry that show **what** we truly are\n",
    "9. it is our Harry that show what **we** truly are\n",
    "10. it is our Harry that show what we **truly** are\n",
    "11. it is our Harry that show what we truly **are**\n",
    "\n",
    "![Word2Vec model diagrams](https://www.researchgate.net/profile/Elena-Tutubalina/publication/318507923/figure/fig2/AS:613947946319904@1523388005889/Illustration-of-the-word2vec-models-a-CBOW-b-skip-gram-16-33.png)"
   ]
  },
  {
   "cell_type": "markdown",
   "metadata": {},
   "source": [
    "For details refer to [https://arxiv.org/abs/1411.2738v4](https://arxiv.org/abs/1411.2738v4) and to the original [article](https://arxiv.org/abs/1301.3781).\n",
    "\n",
    "## Data encoding\n",
    "\n",
    "The starting step to training both CBOW and Skip-Gram is the encoding of the data. All unique words (the vocabulary)\n",
    "are mapped to one-hot encoded vectors. Let the size (number of words) of the vocabulary be $V$ and let $x$ be the\n",
    "$V \\times 1$ vector encoding the target word in some context of size $C$. Let the size of the hidden layer be $n$.\n",
    "\n",
    "## Skip-Gram model\n",
    "\n",
    "The Skip-Gram model predicts the context words of the target by going through the following steps:\n",
    "\n",
    "It maps the target word vector $x$ to the hidden layer by means of a $V \\times n$ matrix $W$.\n",
    "\n",
    "$$\n",
    "h = x^{T}W\n",
    "$$\n",
    "\n",
    "The hidden layer is thus $1 \\ times n$. The hidden layer is mapped to the output layer by means of a second matrix of\n",
    "weights W^{`} of dimension $n \\times V$.\n",
    "\n",
    "$$\n",
    "u = W^{`T}h\n",
    "$$\n",
    "\n",
    "The predictions of the model are obtained by applying the softmax function to the output layer.\n",
    "\n",
    "$$\n",
    "P(w_{c,j} = w_{obs, c}|w_c) = y_{c,j} = \\frac{e^{u_{c,j}}}{\\sum_{j^` = 1}^{V} e^{u_{j^`}}\n",
    "$$\n",
    "\n",
    "The loss function is the negative log-likelihood of observing the _actual_ words in the context given the target word.\n",
    "\n",
    "$$\n",
    "L = -\\log P(w_{Obs, 1}, w_{Obs, 2}, \\ldots, w_{Obs, c}|w_{I}) = \\\\\n",
    "-\\sum_{c = 1}^{C} u_{j^*_{c}} + C \\log\\left(\\sum_{j^{'}=1}^{V}e^{u_{j^'}}\\right)\n",
    "$$\n",
    "\n",
    "By computing the gradient of the loss function with respect to the weights we can obtain the\n",
    "update equations for the gradient descent algorithm. It can be shown, that the update equations\n",
    "are:\n",
    "\n",
    "1. For the hidden layer to the output layer\n",
    "\n",
    "$$\n",
    "    w^{'\\quad (new)}_{ij} = w^{'\\quad (old)} - \\eta \\text{EI}_{j} \\cdot h_i\\\\\n",
    "$$\n",
    "\n",
    "where\n",
    "\n",
    "$$\n",
    "    EI_{j} = \\sum_{c = 1}^{C} e_{c,j}\n",
    "$$\n",
    "\n",
    "is the sum of prediction errors at index $j$ over all context words.\n",
    "\n",
    "2. For the hidden layer -> input layer the weights update equations is\n",
    "$$\n",
    "    v_{w_I}^{(new)} = v_{w_I}^{(old)} - \\eta \\cdot EH^T\n",
    "$$\n",
    "\n",
    "where\n",
    "\n",
    "$$\n",
    "    EH_i = \\sum_{j = 1} ^{V} EI_j \\cdot w^{'}_{ij}\n",
    "$$\n"
   ]
  },
  {
   "cell_type": "markdown",
   "metadata": {},
   "source": [
    "## Learning Word2Vec embeddings\n",
    "\n"
   ]
  },
  {
   "cell_type": "code",
   "execution_count": 1,
   "metadata": {
    "pycharm": {
     "name": "#%%\n"
    }
   },
   "outputs": [],
   "source": [
    "# https://gist.github.com/lvngd/3695aac64461de2cfb9d50bb11d5fbb3\n",
    "import os\n",
    "import pandas as pd\n",
    "import numpy as np\n",
    "import re\n",
    "import string\n",
    "from nltk.tokenize import sent_tokenize\n",
    "from nltk.tokenize import word_tokenize\n",
    "from nltk.stem import PorterStemmer\n",
    "from nltk.corpus import stopwords\n",
    "\n",
    "\n",
    "def tokenize_text(text):\n",
    "    stemmer = PorterStemmer()\n",
    "    punct_table = str.maketrans('', '', string.punctuation)\n",
    "    stop_words = set(stopwords.words('english'))\n",
    "\n",
    "    normalized_sentences = []\n",
    "    text = re.sub(r'\\s+', ' ', text)\n",
    "    # text = unidecode.unidecode(text)\n",
    "    text = text.lower()\n",
    "    # expanded_contractions = list(expand_texts([text], precise=True))\n",
    "    # if expanded_contractions:\n",
    "    #     text = expanded_contractions[0]\n",
    "    sentences = sent_tokenize(text)\n",
    "    for sentence in sentences:\n",
    "        # remove punctuation\n",
    "        sentence = sentence.translate(punct_table)\n",
    "        # strip leading/trailing whitespace\n",
    "        sentence = sentence.strip()\n",
    "        words = word_tokenize(sentence)\n",
    "        # lemmatize and remove stopwords\n",
    "        filtered = [stemmer.stem(word) for word in words if word not in stop_words]\n",
    "        # new_sentence = ' '.join(filtered)\n",
    "        normalized_sentences.append(filtered)\n",
    "\n",
    "    return normalized_sentences\n",
    "\n",
    "\n",
    "def tokenize_corpus(corpus):\n",
    "    sentences = []\n",
    "    for text in corpus:\n",
    "        sentences.extend(tokenize_text(text))\n",
    "\n",
    "    return sentences\n",
    "\n",
    "\n",
    "reviews_df = pd.read_csv(os.path.join(\".\", \"data\", \"reviews.csv\"))\n",
    "reviews_df.dropna(inplace=True)\n",
    "\n",
    "reviews_tokenized = tokenize_corpus(reviews_df['Reviews'])\n",
    "reviews_tokenized = list([review for review in reviews_tokenized if len(review) > 0])"
   ]
  },
  {
   "cell_type": "code",
   "execution_count": 2,
   "metadata": {},
   "outputs": [
    {
     "data": {
      "text/plain": [
       "[['phone', 'need', 'sim', 'card', 'would', 'nice', 'know'],\n",
       " ['3', 'month', 'away', 'upgrad', 'stratospher', 'kept', 'crap']]"
      ]
     },
     "execution_count": 2,
     "metadata": {},
     "output_type": "execute_result"
    }
   ],
   "source": [
    "reviews_tokenized[:2]"
   ]
  },
  {
   "cell_type": "code",
   "execution_count": 4,
   "metadata": {
    "pycharm": {
     "name": "#%%\n"
    }
   },
   "outputs": [],
   "source": [
    "from gensim.models import word2vec\n",
    "\n",
    "embedding_size = 100\n",
    "\n",
    "model = word2vec.Word2Vec(\n",
    "    reviews_tokenized,\n",
    "    vector_size=embedding_size,\n",
    "    window=8,\n",
    "    min_count=1,\n",
    "    workers=4,\n",
    "    epochs=50\n",
    ")"
   ]
  },
  {
   "cell_type": "code",
   "execution_count": 7,
   "metadata": {},
   "outputs": [
    {
     "data": {
      "text/plain": [
       "array([ 1.1754372e+00, -6.8615657e-01, -1.0232530e+00,  1.0957611e-02,\n",
       "       -2.7228233e-01, -7.1557266e-01,  2.6079187e-01,  9.3962979e-01,\n",
       "       -2.6190987e-01, -7.7131146e-01,  8.1905717e-01,  2.9272875e-01,\n",
       "        9.0044290e-02,  1.3711958e+00, -9.5054376e-01,  1.3187205e+00,\n",
       "        1.2064315e+00, -1.7359100e-01, -8.9119053e-01, -2.1610560e+00,\n",
       "       -4.2271522e-01,  6.5375167e-01,  4.5723230e-02, -2.7475691e-01,\n",
       "        6.9127011e-01, -1.8765765e+00,  2.5184321e+00, -7.9945624e-01,\n",
       "        8.7344402e-01, -5.3740460e-01, -8.1254601e-01,  7.2023350e-01,\n",
       "        1.1115493e+00, -5.6541804e-02,  5.4255742e-01,  8.7765366e-02,\n",
       "        1.7257698e-01, -3.0703026e-01, -2.2552586e-01, -4.2221732e+00,\n",
       "        3.4289885e-01,  1.2889907e+00, -7.8703517e-01, -4.6245456e-01,\n",
       "        1.5020660e+00, -2.7281296e-01, -1.3273212e+00,  8.4772074e-01,\n",
       "        7.0051086e-01, -4.3231386e-01,  6.3954645e-01,  1.2685471e+00,\n",
       "       -2.1572100e-01,  3.2341859e-01,  6.4797884e-01, -2.2969987e+00,\n",
       "       -6.2258810e-01,  2.0953250e-01, -8.8128620e-01,  7.2766685e-01,\n",
       "        7.9128581e-01, -1.1484692e+00, -2.0644785e-01, -1.7600207e+00,\n",
       "        4.3175387e-01,  2.1436276e+00, -1.4169601e+00,  9.2919236e-01,\n",
       "       -1.1748000e+00,  3.0479291e-02, -5.3007627e-01,  2.2135475e+00,\n",
       "        1.9143113e-01, -7.5433791e-01,  1.9590548e+00,  6.6048777e-01,\n",
       "       -1.1565334e+00, -3.8827078e+00, -1.1734462e+00, -1.8028320e-01,\n",
       "        2.4997015e+00,  1.9344181e+00,  5.9695321e-01,  2.2670774e-01,\n",
       "        1.2739204e-01,  9.0232331e-01, -1.4906733e+00,  1.2816520e-03,\n",
       "       -2.9376535e+00, -5.4356509e-01,  9.9550921e-01, -4.5795786e-01,\n",
       "        1.4171498e-01, -5.5913442e-01,  1.1051070e-01, -6.2572420e-01,\n",
       "        7.5994074e-02,  6.5893424e-01, -7.9236013e-01,  1.3199377e-01],\n",
       "      dtype=float32)"
      ]
     },
     "execution_count": 7,
     "metadata": {},
     "output_type": "execute_result"
    }
   ],
   "source": [
    "model.wv['boy']"
   ]
  },
  {
   "cell_type": "code",
   "execution_count": 8,
   "metadata": {},
   "outputs": [
    {
     "data": {
      "text/plain": [
       "array([-3.5356402e-01, -8.7655194e-02, -1.1258432e+00, -6.8501270e-01,\n",
       "       -2.1255270e-02,  5.8243632e-01, -8.1269205e-01,  2.8084379e-01,\n",
       "       -2.1284640e+00, -2.0709626e-01,  2.4799906e-01,  8.9672548e-01,\n",
       "       -2.4082531e-01,  1.0032799e+00, -1.1892920e+00,  1.3707592e-01,\n",
       "       -5.3756422e-01,  1.2302785e+00, -3.6895880e-01, -4.2545943e+00,\n",
       "       -5.5638713e-01, -9.5835859e-01,  3.3488634e-01, -9.8918104e-01,\n",
       "       -4.9112543e-01,  2.4109771e+00, -1.5607861e+00, -7.8432256e-01,\n",
       "        4.5211354e-01,  7.6845330e-01,  1.2492409e+00,  8.8394485e-02,\n",
       "       -1.4708042e-01,  1.9435315e-01,  2.0073613e-04,  1.4763364e+00,\n",
       "       -9.7267550e-01, -9.8905581e-01,  4.6910159e-02,  5.9602851e-01,\n",
       "       -1.2008673e-01, -2.7734786e-01, -9.6203184e-01,  2.1126956e-01,\n",
       "        1.2205329e+00,  1.1775591e+00,  7.7042603e-01,  1.3306569e+00,\n",
       "        1.0563660e+00,  7.7089888e-01,  7.3123711e-01,  2.0829086e+00,\n",
       "        5.9017229e-01,  1.5451493e+00,  2.2089977e+00,  4.1820893e-01,\n",
       "        1.4737403e+00, -4.4292126e-02,  2.7779586e+00, -8.7082827e-01,\n",
       "        2.1130371e+00, -1.9992771e+00, -5.2914071e-01, -1.4500996e+00,\n",
       "       -1.2451236e+00,  2.4596570e+00, -3.4691918e-01,  2.5093994e-01,\n",
       "       -4.0560398e+00, -4.2156789e-01,  5.7655901e-01,  1.1035335e+00,\n",
       "        1.5013075e+00, -4.3470541e-01, -1.5668074e+00, -4.5742357e-01,\n",
       "       -2.2641064e-01, -1.2898655e+00,  2.3495773e-02,  6.1118340e-01,\n",
       "        7.2652680e-01, -9.4222599e-01, -6.6330737e-01,  1.6942414e+00,\n",
       "       -1.5491533e+00, -1.2772616e+00, -6.7573351e-01, -9.0380794e-01,\n",
       "       -7.9931565e-02,  1.5306811e+00,  1.3589801e+00, -4.6722963e-01,\n",
       "       -5.0178033e-01,  1.1111374e+00,  4.6814206e-01, -1.5843803e+00,\n",
       "        1.1953793e+00,  2.1743424e+00,  5.9538215e-01,  1.1495845e+00],\n",
       "      dtype=float32)"
      ]
     },
     "execution_count": 8,
     "metadata": {},
     "output_type": "execute_result"
    }
   ],
   "source": [
    "model.wv['girl']"
   ]
  },
  {
   "cell_type": "code",
   "execution_count": 10,
   "metadata": {},
   "outputs": [
    {
     "data": {
      "text/plain": [
       "0.18851212"
      ]
     },
     "execution_count": 10,
     "metadata": {},
     "output_type": "execute_result"
    }
   ],
   "source": [
    "girl_vec = model.wv[\"girl\"]\n",
    "boy_vec = model.wv[\"boy\"]\n",
    "\n",
    "np.dot(girl_vec, boy_vec) / (np.linalg.norm(girl_vec) * np.linalg.norm(boy_vec))"
   ]
  },
  {
   "cell_type": "markdown",
   "metadata": {},
   "source": [
    "The similarity between two words is the cosine similarity defined as\n",
    "\n",
    "$$\n",
    "\\text{similarity}(w_1, w_2) = \\frac{w_{1}\\cdot w_{2}}{||w_{1}|| \\cdot ||w_{2}||}\n",
    "$$\n",
    "\n",
    "it ranges from -1 (perfect dissimilarity) to 1 (perfect closeness)."
   ]
  },
  {
   "cell_type": "code",
   "execution_count": 13,
   "metadata": {
    "pycharm": {
     "name": "#%%\n"
    }
   },
   "outputs": [
    {
     "data": {
      "text/plain": [
       "[('girlfriend', 0.550525426864624),\n",
       " ('brother', 0.4981984496116638),\n",
       " ('gift', 0.4865741729736328),\n",
       " ('nephew', 0.48511067032814026),\n",
       " ('she', 0.4742458760738373),\n",
       " ('screenwhen', 0.4689643681049347),\n",
       " ('hubbi', 0.46226418018341064),\n",
       " ('fudg', 0.4533400237560272),\n",
       " ('boyfriend', 0.43792641162872314),\n",
       " ('38mm', 0.4373270869255066)]"
      ]
     },
     "execution_count": 13,
     "metadata": {},
     "output_type": "execute_result"
    }
   ],
   "source": [
    "model.wv.most_similar(\"girl\")"
   ]
  },
  {
   "cell_type": "code",
   "execution_count": 9,
   "metadata": {
    "pycharm": {
     "name": "#%%\n"
    }
   },
   "outputs": [
    {
     "data": {
      "text/plain": [
       "-0.29567584"
      ]
     },
     "execution_count": 9,
     "metadata": {},
     "output_type": "execute_result"
    }
   ],
   "source": [
    "model.wv.similarity(\"problem\", \"price\")"
   ]
  },
  {
   "cell_type": "code",
   "execution_count": 10,
   "metadata": {
    "pycharm": {
     "name": "#%%\n"
    }
   },
   "outputs": [
    {
     "data": {
      "text/plain": [
       "[('like', 0.4485587775707245),\n",
       " ('crazi', 0.3970179259777069),\n",
       " ('love', 0.3893566131591797),\n",
       " ('development', 0.37303221225738525),\n",
       " ('drawer', 0.3672596514225006),\n",
       " ('suckynow', 0.36245259642601013),\n",
       " ('amazin', 0.3502294719219208),\n",
       " ('everythingth', 0.343802273273468),\n",
       " ('kinda', 0.3371528387069702),\n",
       " ('want', 0.33571404218673706)]"
      ]
     },
     "execution_count": 10,
     "metadata": {},
     "output_type": "execute_result"
    }
   ],
   "source": [
    "model.wv.most_similar(\"hate\")"
   ]
  },
  {
   "cell_type": "code",
   "execution_count": 13,
   "metadata": {
    "pycharm": {
     "name": "#%%\n"
    }
   },
   "outputs": [
    {
     "name": "stderr",
     "output_type": "stream",
     "text": [
      "/home/amarov/anaconda3/envs/text-analytics-script/lib/python3.7/site-packages/sklearn/manifold/_t_sne.py:783: FutureWarning: The default initialization in TSNE will change from 'random' to 'pca' in 1.2.\n",
      "  FutureWarning,\n",
      "/home/amarov/anaconda3/envs/text-analytics-script/lib/python3.7/site-packages/sklearn/manifold/_t_sne.py:793: FutureWarning: The default learning rate in TSNE will change from 200.0 to 'auto' in 1.2.\n",
      "  FutureWarning,\n"
     ]
    },
    {
     "data": {
      "image/png": "[encoded data removed]",
      "text/plain": [
       "<Figure size 720x504 with 1 Axes>"
      ]
     },
     "metadata": {
      "needs_background": "light"
     },
     "output_type": "display_data"
    }
   ],
   "source": [
    "from sklearn.manifold import TSNE\n",
    "import matplotlib.pyplot as plt\n",
    "import numpy as np\n",
    "\n",
    "## https://ronxin.github.io/wevi/\n",
    "\n",
    "words = [\"love\", \"price\", \"budget\", \"hate\", \"wast\", \"problem\"]\n",
    "wvs = model.wv[words]\n",
    "\n",
    "tsne = TSNE(n_components=2, random_state=0, n_iter=10000, perplexity=2)\n",
    "np.set_printoptions(suppress=True)\n",
    "T = tsne.fit_transform(wvs)\n",
    "\n",
    "labels = words\n",
    "plt.figure(figsize=(10, 7))\n",
    "plt.scatter(T[:, 0], T[:, 1], c='blue', edgecolors='r')\n",
    "for label, x, y in zip(labels, T[:, 0], T[:, 1]):\n",
    "    plt.annotate(label, xy=(x + 1, y + 1), xytext=(0, 0), textcoords='offset points')\n"
   ]
  },
  {
   "cell_type": "markdown",
   "metadata": {},
   "source": []
  },
  {
   "cell_type": "code",
   "execution_count": 25,
   "metadata": {
    "pycharm": {
     "name": "#%%\n"
    }
   },
   "outputs": [],
   "source": [
    "## Use the vectors to create average document embeddings\n",
    "\n",
    "docs_embedding = np.zeros((reviews_df.shape[0], embedding_size), dtype=\"float64\")\n",
    "doc_idx = 0\n",
    "\n",
    "for review in reviews_df.Reviews:\n",
    "    sentences = tokenize_text(review)\n",
    "\n",
    "    features = np.zeros((embedding_size,), dtype=\"float64\")\n",
    "\n",
    "    words_cnt = 0\n",
    "    for sentence in sentences:\n",
    "        for word in sentence:\n",
    "            words_cnt += 1\n",
    "            features = np.add(features, model.wv[word])\n",
    "\n",
    "    if words_cnt > 0:\n",
    "        features = np.divide(features, words_cnt)\n",
    "\n",
    "    docs_embedding[doc_idx] = features\n",
    "    doc_idx += 1\n"
   ]
  },
  {
   "cell_type": "code",
   "execution_count": 30,
   "metadata": {},
   "outputs": [
    {
     "data": {
      "text/plain": [
       "(40062, 100)"
      ]
     },
     "execution_count": 30,
     "metadata": {},
     "output_type": "execute_result"
    }
   ],
   "source": [
    "docs_embedding.shape"
   ]
  },
  {
   "cell_type": "code",
   "execution_count": null,
   "metadata": {},
   "outputs": [],
   "source": [
    "docs_embedding[:4,:3]"
   ]
  },
  {
   "cell_type": "code",
   "execution_count": 20,
   "metadata": {
    "pycharm": {
     "name": "#%%\n"
    }
   },
   "outputs": [],
   "source": [
    "sample_indices = np.random.randint(10, size=2000)\n",
    "sample_docs_embedding = docs_embedding[sample_indices]"
   ]
  },
  {
   "cell_type": "code",
   "execution_count": 23,
   "metadata": {
    "pycharm": {
     "name": "#%%\n"
    }
   },
   "outputs": [
    {
     "data": {
      "image/png": "[encoded data removed]",
      "text/plain": [
       "<Figure size 720x504 with 1 Axes>"
      ]
     },
     "metadata": {
      "needs_background": "light"
     },
     "output_type": "display_data"
    }
   ],
   "source": [
    "import scipy.cluster.hierarchy as shc\n",
    "\n",
    "plt.figure(figsize=(10, 7))\n",
    "plt.title(\"Dendrograms\")\n",
    "dend = shc.dendrogram(shc.linkage(sample_docs_embedding, method='ward'))"
   ]
  },
  {
   "cell_type": "code",
   "execution_count": 22,
   "metadata": {
    "pycharm": {
     "name": "#%%\n"
    }
   },
   "outputs": [],
   "source": [
    "from sklearn.cluster import AgglomerativeClustering\n",
    "\n",
    "cluster = AgglomerativeClustering(n_clusters=2, affinity='euclidean', linkage='ward')\n",
    "agglom_pred = cluster.fit_predict(sample_docs_embedding)"
   ]
  },
  {
   "cell_type": "markdown",
   "metadata": {},
   "source": [
    "### Pre-trained Word2Vec vectors\n"
   ]
  },
  {
   "cell_type": "code",
   "execution_count": 17,
   "metadata": {
    "pycharm": {
     "is_executing": true,
     "name": "#%%\n"
    }
   },
   "outputs": [],
   "source": [
    "import gensim.models.keyedvectors as word2vec\n",
    "import gensim\n",
    "# model = word2vec.load_word2vec_format(\"pretrained/GoogleNews-vectors-negative300.bin.gz\", binary=True)\n",
    "import gensim.downloader as gs_api\n",
    "\n",
    "w2vec_pre = gs_api.load(\"word2vec-google-news-300\")\n"
   ]
  },
  {
   "cell_type": "code",
   "execution_count": 21,
   "metadata": {
    "pycharm": {
     "name": "#%%\n"
    }
   },
   "outputs": [
    {
     "data": {
      "text/plain": [
       "0.466594"
      ]
     },
     "execution_count": 21,
     "metadata": {},
     "output_type": "execute_result"
    }
   ],
   "source": [
    "w2vec_pre.similarity(\"health\", \"care\")"
   ]
  },
  {
   "cell_type": "code",
   "execution_count": 23,
   "metadata": {},
   "outputs": [
    {
     "data": {
      "text/plain": [
       "0.8543272"
      ]
     },
     "execution_count": 23,
     "metadata": {},
     "output_type": "execute_result"
    }
   ],
   "source": [
    "w2vec_pre.similarity(\"girl\", \"boy\")"
   ]
  },
  {
   "cell_type": "code",
   "execution_count": 63,
   "metadata": {
    "pycharm": {
     "name": "#%%\n"
    }
   },
   "outputs": [
    {
     "data": {
      "text/plain": [
       "[('kings', 0.6467223763465881),\n",
       " ('prince', 0.5280967354774475),\n",
       " ('princes', 0.4967823624610901),\n",
       " ('crown_prince', 0.49598073959350586),\n",
       " ('sultan', 0.4732935428619385),\n",
       " ('monarch', 0.4715597629547119),\n",
       " ('ruler', 0.466869592666626),\n",
       " ('clown_prince', 0.4635189473628998),\n",
       " ('undisputed_king', 0.45983585715293884),\n",
       " ('King', 0.4503089189529419)]"
      ]
     },
     "execution_count": 63,
     "metadata": {},
     "output_type": "execute_result"
    }
   ],
   "source": [
    "w2vec_pre.most_similar(positive=[\"king\", \"men\"], negative=[\"women\"])\n"
   ]
  },
  {
   "cell_type": "code",
   "execution_count": 32,
   "metadata": {
    "pycharm": {
     "name": "#%%\n"
    }
   },
   "outputs": [
    {
     "name": "stdout",
     "output_type": "stream",
     "text": [
      "Vocabulary size is 3000000\n"
     ]
    }
   ],
   "source": [
    "## Vocabulary size\n",
    "vocab = model.key_to_index.keys()\n",
    "print(\"Vocabulary size is\", str(len(vocab)))"
   ]
  },
  {
   "cell_type": "code",
   "execution_count": 33,
   "metadata": {
    "pycharm": {
     "name": "#%%\n"
    }
   },
   "outputs": [
    {
     "name": "stdout",
     "output_type": "stream",
     "text": [
      "0.7821096\n"
     ]
    }
   ],
   "source": [
    "## Similarity between two words\n",
    "\n",
    "print(model.similarity(\"car\", \"vehicle\"))"
   ]
  }
 ],
 "metadata": {
  "kernelspec": {
   "display_name": "Python 3 (ipykernel)",
   "language": "python",
   "name": "python3"
  },
  "language_info": {
   "codemirror_mode": {
    "name": "ipython",
    "version": 3
   },
   "file_extension": ".py",
   "mimetype": "text/x-python",
   "name": "python",
   "nbconvert_exporter": "python",
   "pygments_lexer": "ipython3",
   "version": "3.7.7"
  }
 },
 "nbformat": 4,
 "nbformat_minor": 1
}