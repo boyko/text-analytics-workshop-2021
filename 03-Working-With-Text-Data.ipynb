{
 "cells": [
  {
   "cell_type": "code",
   "execution_count": 1,
   "outputs": [],
   "source": [
    "\n",
    "import pandas as pd"
   ],
   "metadata": {
    "collapsed": false,
    "pycharm": {
     "name": "#%%\n"
    }
   }
  },
  {
   "cell_type": "markdown",
   "source": [
    "## Working with text data in Python\n",
    "\n",
    "Before we begin\n",
    "\n",
    "- String literals\n",
    "- Escaping special characters\n",
    "- String operations, indexing, slicing and formatting\n",
    "- Regular expressions\n",
    "\n",
    "### String literals\n",
    "\n",
    "For detailed information see the Python 3 [string](https://docs.python.org/3/library/string.html) documentation."
   ],
   "metadata": {
    "collapsed": false,
    "pycharm": {
     "name": "#%% md\n"
    }
   }
  },
  {
   "cell_type": "code",
   "execution_count": 2,
   "outputs": [],
   "source": [
    "## String literals\n",
    "simple_string = \"The dog chased the bat.\""
   ],
   "metadata": {
    "collapsed": false,
    "pycharm": {
     "name": "#%%\n"
    }
   }
  },
  {
   "cell_type": "code",
   "execution_count": 3,
   "outputs": [],
   "source": [
    "## Quotation marks need to be escaped using \\ to remove their special meaning\n",
    "\n",
    "string_with_escape_char_1 = \"The building housing the John Snow pub was built in the 1870s and was originally called the \\\"Newcastle-upon-Tyne.\\\"\""
   ],
   "metadata": {
    "collapsed": false,
    "pycharm": {
     "name": "#%%\n"
    }
   }
  },
  {
   "cell_type": "code",
   "execution_count": 4,
   "outputs": [
    {
     "data": {
      "text/plain": "'She said that this model is \"the best there is.\" '"
     },
     "execution_count": 4,
     "metadata": {},
     "output_type": "execute_result"
    }
   ],
   "source": [
    "## Long string format\n",
    "\n",
    "string_long_format = \"\"\"She said that this model is \"the best there is.\" \"\"\"\n",
    "string_long_format"
   ],
   "metadata": {
    "collapsed": false,
    "pycharm": {
     "name": "#%%\n"
    }
   }
  },
  {
   "cell_type": "code",
   "execution_count": 5,
   "outputs": [
    {
     "name": "stdout",
     "output_type": "stream",
     "text": [
      "Press \t to align the piece of code...\n",
      "Press \\t to align the piece of code...\n"
     ]
    }
   ],
   "source": [
    "## Some characters have a special meaning when preceeded by \\,\n",
    "\n",
    "string_with_escape_char_2 = \"Press \\t to align the piece of code...\"\n",
    "print(string_with_escape_char_2)\n",
    "\n",
    "string_with_escape_char_3 = \"Press \\\\t to align the piece of code...\"\n",
    "print(string_with_escape_char_3)"
   ],
   "metadata": {
    "collapsed": false,
    "pycharm": {
     "name": "#%%\n"
    }
   }
  },
  {
   "cell_type": "code",
   "execution_count": 6,
   "outputs": [
    {
     "name": "stdout",
     "output_type": "stream",
     "text": [
      "Press \\t to align the piece of code...\n"
     ]
    }
   ],
   "source": [
    "## String prefixs: r\"string\": raw strings do not perform backspace interpolation and disable escape sequences\n",
    "\n",
    "string_with_escape_char_3 = r\"Press \\t to align the piece of code...\"\n",
    "print(string_with_escape_char_3)"
   ],
   "metadata": {
    "collapsed": false,
    "pycharm": {
     "name": "#%%\n"
    }
   }
  },
  {
   "cell_type": "markdown",
   "source": [
    "### Reading text from a local file\n"
   ],
   "metadata": {
    "collapsed": false
   }
  },
  {
   "cell_type": "code",
   "execution_count": 7,
   "outputs": [
    {
     "name": "stdout",
     "output_type": "stream",
     "text": [
      "Just returned to the @WhiteHouse after a great evening @ Monroe, Louisiana with a massive turnout of Great American Patriots. With early voting underway until Sat, find your polling location below & go vote for your next #LAgov, @EddieRispone! #GeauxVote➡️https://vote.donaldjtrump.com\n",
      "The degenerate Washington Post MADE UP the story about me asking Bill Barr to hold a news conference. Never happened, and there were no sources!\n",
      "LOUISIANA! Early voting is underway until Saturday, it’s time to get out and VOTE to REPLACE Radical Liberal Democrat John Bel Edwards with a great new REPUBLICAN Governor, @EddieRispone! #GeauxVote\n",
      "“Based on the things I’ve seen, the Democrats have no case, or a weak case, at best. I don’t think there are, or will be, well founded articles of Impeachment here.” Robert Wray, respected former prosecutor. It is a phony scam by the Do Nothing Dems! @foxandfriends\n",
      "\n"
     ]
    }
   ],
   "source": [
    "### Read the whole file string into memory\n",
    "\n",
    "## Opens a file handle in read mode\n",
    "f = open('./data/tweets_hashtags_callouts.txt', 'r')\n",
    "\n",
    "## Reads the contents of the file as one string\n",
    "callouts_text = f.read()\n",
    "f.close()\n",
    "\n",
    "print(callouts_text)"
   ],
   "metadata": {
    "collapsed": false,
    "pycharm": {
     "name": "#%%\n"
    }
   }
  },
  {
   "cell_type": "code",
   "execution_count": 8,
   "outputs": [
    {
     "name": "stdout",
     "output_type": "stream",
     "text": [
      "Read 5 tweets.\n"
     ]
    }
   ],
   "source": [
    "## It is common that each line in the file\n",
    "## corresponds to a single record (e.g. tweet)\n",
    "\n",
    "## Splits the strings on newline\n",
    "\n",
    "tweets = callouts_text.split(\"\\n\")\n",
    "tweets[:2]\n",
    "\n",
    "print(f\"Read {len(tweets)} tweets.\")"
   ],
   "metadata": {
    "collapsed": false,
    "pycharm": {
     "name": "#%%\n"
    }
   }
  },
  {
   "cell_type": "markdown",
   "source": [
    "String length"
   ],
   "metadata": {
    "collapsed": false
   }
  },
  {
   "cell_type": "code",
   "execution_count": 9,
   "outputs": [
    {
     "name": "stdout",
     "output_type": "stream",
     "text": [
      "The first tweet has 285 characters.\n"
     ]
    }
   ],
   "source": [
    "tweet1 = tweets[0]\n",
    "print(f\"The first tweet has {len(tweet1)} characters.\")"
   ],
   "metadata": {
    "collapsed": false,
    "pycharm": {
     "name": "#%%\n"
    }
   }
  },
  {
   "cell_type": "markdown",
   "source": [
    "String slices"
   ],
   "metadata": {
    "collapsed": false
   }
  },
  {
   "cell_type": "code",
   "execution_count": 10,
   "outputs": [
    {
     "name": "stdout",
     "output_type": "stream",
     "text": [
      "The first four characters of the first tweet: 'Just'\n"
     ]
    }
   ],
   "source": [
    "print(f\"The first four characters of the first tweet: '{tweet1[:4]}'\")"
   ],
   "metadata": {
    "collapsed": false,
    "pycharm": {
     "name": "#%%\n"
    }
   }
  },
  {
   "cell_type": "markdown",
   "source": [
    "String operations: `istitle()`, `isalnum()`, `lower()`, etc."
   ],
   "metadata": {
    "collapsed": false
   }
  },
  {
   "cell_type": "code",
   "execution_count": 11,
   "outputs": [
    {
     "data": {
      "text/plain": "'Title String'"
     },
     "execution_count": 11,
     "metadata": {},
     "output_type": "execute_result"
    }
   ],
   "source": [
    "\"title string\".title()"
   ],
   "metadata": {
    "collapsed": false,
    "pycharm": {
     "name": "#%%\n"
    }
   }
  },
  {
   "cell_type": "code",
   "execution_count": 12,
   "outputs": [
    {
     "data": {
      "text/plain": "True"
     },
     "execution_count": 12,
     "metadata": {},
     "output_type": "execute_result"
    }
   ],
   "source": [
    "\"Title String\".istitle()"
   ],
   "metadata": {
    "collapsed": false,
    "pycharm": {
     "name": "#%%\n"
    }
   }
  },
  {
   "cell_type": "code",
   "execution_count": 13,
   "outputs": [
    {
     "data": {
      "text/plain": "'upcase'"
     },
     "execution_count": 13,
     "metadata": {},
     "output_type": "execute_result"
    }
   ],
   "source": [
    "\"Upcase\".lower()"
   ],
   "metadata": {
    "collapsed": false,
    "pycharm": {
     "name": "#%%\n"
    }
   }
  },
  {
   "cell_type": "code",
   "execution_count": 14,
   "outputs": [
    {
     "data": {
      "text/plain": "True"
     },
     "execution_count": 14,
     "metadata": {},
     "output_type": "execute_result"
    }
   ],
   "source": [
    "\"upcase\".islower()"
   ],
   "metadata": {
    "collapsed": false,
    "pycharm": {
     "name": "#%%\n"
    }
   }
  },
  {
   "cell_type": "code",
   "execution_count": 15,
   "outputs": [
    {
     "data": {
      "text/plain": "'LOWCASE'"
     },
     "execution_count": 15,
     "metadata": {},
     "output_type": "execute_result"
    }
   ],
   "source": [
    "\"lowcase\".upper()"
   ],
   "metadata": {
    "collapsed": false,
    "pycharm": {
     "name": "#%%\n"
    }
   }
  },
  {
   "cell_type": "code",
   "execution_count": 16,
   "outputs": [
    {
     "data": {
      "text/plain": "True"
     },
     "execution_count": 16,
     "metadata": {},
     "output_type": "execute_result"
    }
   ],
   "source": [
    "\"LOWCASE\".isupper()"
   ],
   "metadata": {
    "collapsed": false,
    "pycharm": {
     "name": "#%%\n"
    }
   }
  },
  {
   "cell_type": "markdown",
   "source": [
    "Commonly it is useful to replace leading and trainling whitespace. The methods\n",
    "`strip()`, `rstrip()` and `lstrip()` are helpful."
   ],
   "metadata": {
    "collapsed": false
   }
  },
  {
   "cell_type": "code",
   "execution_count": 17,
   "outputs": [
    {
     "data": {
      "text/plain": "'with leading white space'"
     },
     "execution_count": 17,
     "metadata": {},
     "output_type": "execute_result"
    }
   ],
   "source": [
    "\"    with leading white space\".lstrip()"
   ],
   "metadata": {
    "collapsed": false,
    "pycharm": {
     "name": "#%%\n"
    }
   }
  },
  {
   "cell_type": "code",
   "execution_count": 18,
   "outputs": [
    {
     "data": {
      "text/plain": "'with trainling whitespace'"
     },
     "execution_count": 18,
     "metadata": {},
     "output_type": "execute_result"
    }
   ],
   "source": [
    "\"with trainling whitespace        \".rstrip()"
   ],
   "metadata": {
    "collapsed": false,
    "pycharm": {
     "name": "#%%\n"
    }
   }
  },
  {
   "cell_type": "code",
   "execution_count": 19,
   "outputs": [
    {
     "data": {
      "text/plain": "'with both leading and trailing whitespace'"
     },
     "execution_count": 19,
     "metadata": {},
     "output_type": "execute_result"
    }
   ],
   "source": [
    "\"   with both leading and trailing whitespace\".strip()"
   ],
   "metadata": {
    "collapsed": false,
    "pycharm": {
     "name": "#%%\n"
    }
   }
  },
  {
   "cell_type": "markdown",
   "source": [
    "Another common operation is splitting a string on some character, e.g. whitespace"
   ],
   "metadata": {
    "collapsed": false
   }
  },
  {
   "cell_type": "code",
   "execution_count": 20,
   "outputs": [
    {
     "name": "stdout",
     "output_type": "stream",
     "text": [
      "['The', 'brown', 'rabbit']\n"
     ]
    }
   ],
   "source": [
    "str_split = \"The brown rabbit\".split(\" \")\n",
    "print(str_split)"
   ],
   "metadata": {
    "collapsed": false,
    "pycharm": {
     "name": "#%%\n"
    }
   }
  },
  {
   "cell_type": "markdown",
   "source": [
    "Different from other languages, joining\n",
    "a list of strings is a method of string (the separator)."
   ],
   "metadata": {
    "collapsed": false
   }
  },
  {
   "cell_type": "code",
   "execution_count": 21,
   "outputs": [
    {
     "data": {
      "text/plain": "'The,brown,rabbit'"
     },
     "execution_count": 21,
     "metadata": {},
     "output_type": "execute_result"
    }
   ],
   "source": [
    "\",\".join(str_split)"
   ],
   "metadata": {
    "collapsed": false,
    "pycharm": {
     "name": "#%%\n"
    }
   }
  },
  {
   "cell_type": "markdown",
   "source": [
    "Replacing substrings"
   ],
   "metadata": {
    "collapsed": false
   }
  },
  {
   "cell_type": "code",
   "execution_count": 22,
   "outputs": [
    {
     "data": {
      "text/plain": "'some - to replace a -'"
     },
     "execution_count": 22,
     "metadata": {},
     "output_type": "execute_result"
    }
   ],
   "source": [
    "\"some string to replace a string\".replace(\"string\", \"-\")"
   ],
   "metadata": {
    "collapsed": false,
    "pycharm": {
     "name": "#%%\n"
    }
   }
  },
  {
   "cell_type": "code",
   "source": [
    "\"playful\"[::-2]"
   ],
   "metadata": {
    "collapsed": false,
    "pycharm": {
     "name": "#%%\n"
    }
   },
   "execution_count": 23,
   "outputs": [
    {
     "data": {
      "text/plain": "'lfap'"
     },
     "execution_count": 23,
     "metadata": {},
     "output_type": "execute_result"
    }
   ]
  },
  {
   "cell_type": "markdown",
   "source": [
    "### Regular expressions\n",
    "\n",
    "Regular expressions are a mini (or not so mini) language for specifying search patterns and are an indispensable\n",
    "tool for handling text data in any programming language. Here we will briefly touch on some use cases in Python.\n",
    "For more details, please visit the Python [documentation](https://docs.python.org/3.7/library/re.html). This [short introduction](https://realpython.com/regex-python/) can also be helpful.\n"
   ],
   "metadata": {
    "collapsed": false
   }
  },
  {
   "cell_type": "code",
   "execution_count": 24,
   "outputs": [],
   "source": [
    "import re"
   ],
   "metadata": {
    "collapsed": false,
    "pycharm": {
     "name": "#%%\n"
    }
   }
  },
  {
   "cell_type": "code",
   "execution_count": 25,
   "outputs": [
    {
     "name": "stdout",
     "output_type": "stream",
     "text": [
      "Success!\n"
     ]
    }
   ],
   "source": [
    "## Test if the string contains the substring \"be\"\n",
    "\n",
    "has_match = re.search(r\"be\", \"Let it be\")\n",
    "\n",
    "if has_match:\n",
    "    print(\"Success!\")"
   ],
   "metadata": {
    "collapsed": false,
    "pycharm": {
     "name": "#%%\n"
    }
   }
  },
  {
   "cell_type": "markdown",
   "source": [
    "`re.match` search at the start of the string."
   ],
   "metadata": {
    "collapsed": false
   }
  },
  {
   "cell_type": "code",
   "execution_count": 26,
   "outputs": [
    {
     "name": "stdout",
     "output_type": "stream",
     "text": [
      "Success\n"
     ]
    }
   ],
   "source": [
    "has_match = re.match(\"Be\", \"Be it as it may\")\n",
    "\n",
    "print(\"Success\") if has_match else print(\"No match\")"
   ],
   "metadata": {
    "collapsed": false,
    "pycharm": {
     "name": "#%%\n"
    }
   }
  },
  {
   "cell_type": "markdown",
   "source": [
    "To ignore the case in both the regular expression and the string,\n",
    "use the modifier: `re.IGNORECASE`. Try the following without the modifier."
   ],
   "metadata": {
    "collapsed": false
   }
  },
  {
   "cell_type": "code",
   "execution_count": 27,
   "outputs": [
    {
     "name": "stdout",
     "output_type": "stream",
     "text": [
      "Success\n"
     ]
    }
   ],
   "source": [
    "has_match = re.match(\"be\", \"Be it as it may\", re.IGNORECASE)\n",
    "\n",
    "print(\"Success\") if has_match else print(\"No match\")"
   ],
   "metadata": {
    "collapsed": false,
    "pycharm": {
     "name": "#%%\n"
    }
   }
  },
  {
   "cell_type": "markdown",
   "source": [
    "Find all words starting with g of length 4. The character class `\\w` matches\n",
    "word characters."
   ],
   "metadata": {
    "collapsed": false,
    "pycharm": {
     "name": "#%% md\n"
    }
   }
  },
  {
   "cell_type": "code",
   "execution_count": 28,
   "outputs": [
    {
     "name": "stdout",
     "output_type": "stream",
     "text": [
      "['goal', 'goat']\n"
     ]
    }
   ],
   "source": [
    "matches = re.findall(r\"g\\w{3}\", \"The goal was to catch the goat.\")\n",
    "print(matches)"
   ],
   "metadata": {
    "collapsed": false,
    "pycharm": {
     "name": "#%%\n"
    }
   }
  },
  {
   "cell_type": "markdown",
   "source": [
    "The character class `\\d` matches decimal digits."
   ],
   "metadata": {
    "collapsed": false
   }
  },
  {
   "cell_type": "code",
   "execution_count": 29,
   "outputs": [
    {
     "name": "stdout",
     "output_type": "stream",
     "text": [
      "['2', '301']\n"
     ]
    }
   ],
   "source": [
    "matches = re.findall(r\"\\d+\", \"Find all integers like 2 and 301 here.\")\n",
    "print(matches)"
   ],
   "metadata": {
    "collapsed": false,
    "pycharm": {
     "name": "#%%\n"
    }
   }
  },
  {
   "cell_type": "markdown",
   "source": [
    "Find all substrings starting with g and ending with either t or l."
   ],
   "metadata": {
    "collapsed": false
   }
  },
  {
   "cell_type": "code",
   "execution_count": 30,
   "outputs": [
    {
     "name": "stdout",
     "output_type": "stream",
     "text": [
      "['goal', 'goat']\n"
     ]
    }
   ],
   "source": [
    "matches = re.findall(r\"g.*?[tl]\", \"The goal was to catch the goat.\")\n",
    "print(matches)"
   ],
   "metadata": {
    "collapsed": false,
    "pycharm": {
     "name": "#%%\n"
    }
   }
  },
  {
   "cell_type": "markdown",
   "source": [
    "Use search to find substrings starting with @ and return it as a dictionary."
   ],
   "metadata": {
    "collapsed": false
   }
  },
  {
   "cell_type": "code",
   "execution_count": 31,
   "outputs": [
    {
     "name": "stdout",
     "output_type": "stream",
     "text": [
      "{'mention': '@Ann23'}\n"
     ]
    }
   ],
   "source": [
    "matches = re.search(r\"(?P<mention>@\\w+)\", \"Hi, @Ann23, @Pieas\")\n",
    "print(matches.groupdict())"
   ],
   "metadata": {
    "collapsed": false,
    "pycharm": {
     "name": "#%%\n"
    }
   }
  },
  {
   "cell_type": "markdown",
   "source": [
    "Use a regular expression to compress whitespace within the string"
   ],
   "metadata": {
    "collapsed": false
   }
  },
  {
   "cell_type": "code",
   "execution_count": 32,
   "outputs": [
    {
     "name": "stdout",
     "output_type": "stream",
     "text": [
      "A string with lots of white space.\n"
     ]
    }
   ],
   "source": [
    "cleaned_string = re.sub(r\"\\s+\", \" \", \"A string    with lots  of white space.\")\n",
    "print(cleaned_string)"
   ],
   "metadata": {
    "collapsed": false,
    "pycharm": {
     "name": "#%%\n"
    }
   }
  },
  {
   "cell_type": "markdown",
   "source": [
    "Use a regular expression to change the position of the first and last names in the following string:"
   ],
   "metadata": {
    "collapsed": false,
    "pycharm": {
     "name": "#%% md\n"
    }
   }
  },
  {
   "cell_type": "code",
   "execution_count": 33,
   "outputs": [
    {
     "data": {
      "text/plain": "'Santori Mike'"
     },
     "execution_count": 33,
     "metadata": {},
     "output_type": "execute_result"
    }
   ],
   "source": [
    "cleaned_string = re.sub(r\"(\\w+) (\\w+)\", r\"\\2 \\1\", \"Mike Santori\")\n",
    "cleaned_string"
   ],
   "metadata": {
    "collapsed": false,
    "pycharm": {
     "name": "#%%\n"
    }
   }
  },
  {
   "cell_type": "markdown",
   "source": [
    "### Strings in pandas\n",
    "\n",
    "Panda series and data frames have build-in methods for manipulation text columns.\n",
    "Let us build an example data frame from the `callouts_text` object.\n"
   ],
   "metadata": {
    "collapsed": false
   }
  },
  {
   "cell_type": "code",
   "execution_count": 34,
   "outputs": [
    {
     "data": {
      "text/plain": "                                             content\n0  Just returned to the @WhiteHouse after a great...\n1  The degenerate Washington Post MADE UP the sto...\n2  LOUISIANA! Early voting is underway until Satu...\n3  “Based on the things I’ve seen, the Democrats ...\n4                                                   ",
      "text/html": "<div>\n<style scoped>\n    .dataframe tbody tr th:only-of-type {\n        vertical-align: middle;\n    }\n\n    .dataframe tbody tr th {\n        vertical-align: top;\n    }\n\n    .dataframe thead th {\n        text-align: right;\n    }\n</style>\n<table border=\"1\" class=\"dataframe\">\n  <thead>\n    <tr style=\"text-align: right;\">\n      <th></th>\n      <th>content</th>\n    </tr>\n  </thead>\n  <tbody>\n    <tr>\n      <th>0</th>\n      <td>Just returned to the @WhiteHouse after a great...</td>\n    </tr>\n    <tr>\n      <th>1</th>\n      <td>The degenerate Washington Post MADE UP the sto...</td>\n    </tr>\n    <tr>\n      <th>2</th>\n      <td>LOUISIANA! Early voting is underway until Satu...</td>\n    </tr>\n    <tr>\n      <th>3</th>\n      <td>“Based on the things I’ve seen, the Democrats ...</td>\n    </tr>\n    <tr>\n      <th>4</th>\n      <td></td>\n    </tr>\n  </tbody>\n</table>\n</div>"
     },
     "execution_count": 34,
     "metadata": {},
     "output_type": "execute_result"
    }
   ],
   "source": [
    "co_df = pd.DataFrame(tweets, columns=[\"content\"])\n",
    "co_df"
   ],
   "metadata": {
    "collapsed": false,
    "pycharm": {
     "name": "#%%\n"
    }
   }
  },
  {
   "cell_type": "markdown",
   "source": [
    "Conver the `content` column to lowercase.\n"
   ],
   "metadata": {
    "collapsed": false
   }
  },
  {
   "cell_type": "code",
   "execution_count": 151,
   "outputs": [
    {
     "data": {
      "text/plain": "                                             content\n0  just returned to the @whitehouse after a great...\n1  the degenerate washington post made up the sto...\n2  louisiana! early voting is underway until satu...\n3  “based on the things i’ve seen, the democrats ...\n4                                                   ",
      "text/html": "<div>\n<style scoped>\n    .dataframe tbody tr th:only-of-type {\n        vertical-align: middle;\n    }\n\n    .dataframe tbody tr th {\n        vertical-align: top;\n    }\n\n    .dataframe thead th {\n        text-align: right;\n    }\n</style>\n<table border=\"1\" class=\"dataframe\">\n  <thead>\n    <tr style=\"text-align: right;\">\n      <th></th>\n      <th>content</th>\n    </tr>\n  </thead>\n  <tbody>\n    <tr>\n      <th>0</th>\n      <td>just returned to the @whitehouse after a great...</td>\n    </tr>\n    <tr>\n      <th>1</th>\n      <td>the degenerate washington post made up the sto...</td>\n    </tr>\n    <tr>\n      <th>2</th>\n      <td>louisiana! early voting is underway until satu...</td>\n    </tr>\n    <tr>\n      <th>3</th>\n      <td>“based on the things i’ve seen, the democrats ...</td>\n    </tr>\n    <tr>\n      <th>4</th>\n      <td></td>\n    </tr>\n  </tbody>\n</table>\n</div>"
     },
     "execution_count": 151,
     "metadata": {},
     "output_type": "execute_result"
    }
   ],
   "source": [
    "co_df[\"content\"] = co_df[\"content\"].str.lower()\n",
    "co_df"
   ],
   "metadata": {
    "collapsed": false,
    "pycharm": {
     "name": "#%%\n"
    }
   }
  },
  {
   "cell_type": "markdown",
   "source": [
    "Count the number of mentions in each tweet."
   ],
   "metadata": {
    "collapsed": false
   }
  },
  {
   "cell_type": "code",
   "execution_count": 152,
   "outputs": [
    {
     "data": {
      "text/plain": "                                             content  mentions_cnt\n0  just returned to the @whitehouse after a great...             2\n1  the degenerate washington post made up the sto...             0\n2  louisiana! early voting is underway until satu...             1\n3  “based on the things i’ve seen, the democrats ...             1\n4                                                                0",
      "text/html": "<div>\n<style scoped>\n    .dataframe tbody tr th:only-of-type {\n        vertical-align: middle;\n    }\n\n    .dataframe tbody tr th {\n        vertical-align: top;\n    }\n\n    .dataframe thead th {\n        text-align: right;\n    }\n</style>\n<table border=\"1\" class=\"dataframe\">\n  <thead>\n    <tr style=\"text-align: right;\">\n      <th></th>\n      <th>content</th>\n      <th>mentions_cnt</th>\n    </tr>\n  </thead>\n  <tbody>\n    <tr>\n      <th>0</th>\n      <td>just returned to the @whitehouse after a great...</td>\n      <td>2</td>\n    </tr>\n    <tr>\n      <th>1</th>\n      <td>the degenerate washington post made up the sto...</td>\n      <td>0</td>\n    </tr>\n    <tr>\n      <th>2</th>\n      <td>louisiana! early voting is underway until satu...</td>\n      <td>1</td>\n    </tr>\n    <tr>\n      <th>3</th>\n      <td>“based on the things i’ve seen, the democrats ...</td>\n      <td>1</td>\n    </tr>\n    <tr>\n      <th>4</th>\n      <td></td>\n      <td>0</td>\n    </tr>\n  </tbody>\n</table>\n</div>"
     },
     "execution_count": 152,
     "metadata": {},
     "output_type": "execute_result"
    }
   ],
   "source": [
    "co_df[\"mentions_cnt\"] = co_df[\"content\"].str.count(r\"@\\w+\")\n",
    "co_df"
   ],
   "metadata": {
    "collapsed": false,
    "pycharm": {
     "name": "#%%\n"
    }
   }
  },
  {
   "cell_type": "markdown",
   "source": [
    "Count the number of uppercase words in each tweet. Use the [] to define a character class and the `\\b` character to match\n",
    "word boundaries."
   ],
   "metadata": {
    "collapsed": false
   }
  },
  {
   "cell_type": "code",
   "execution_count": 153,
   "outputs": [
    {
     "data": {
      "text/plain": "                                             content  mentions_cnt  cries_cnt\n0  just returned to the @whitehouse after a great...             2          0\n1  the degenerate washington post made up the sto...             0          0\n2  louisiana! early voting is underway until satu...             1          0\n3  “based on the things i’ve seen, the democrats ...             1          0\n4                                                                0          0",
      "text/html": "<div>\n<style scoped>\n    .dataframe tbody tr th:only-of-type {\n        vertical-align: middle;\n    }\n\n    .dataframe tbody tr th {\n        vertical-align: top;\n    }\n\n    .dataframe thead th {\n        text-align: right;\n    }\n</style>\n<table border=\"1\" class=\"dataframe\">\n  <thead>\n    <tr style=\"text-align: right;\">\n      <th></th>\n      <th>content</th>\n      <th>mentions_cnt</th>\n      <th>cries_cnt</th>\n    </tr>\n  </thead>\n  <tbody>\n    <tr>\n      <th>0</th>\n      <td>just returned to the @whitehouse after a great...</td>\n      <td>2</td>\n      <td>0</td>\n    </tr>\n    <tr>\n      <th>1</th>\n      <td>the degenerate washington post made up the sto...</td>\n      <td>0</td>\n      <td>0</td>\n    </tr>\n    <tr>\n      <th>2</th>\n      <td>louisiana! early voting is underway until satu...</td>\n      <td>1</td>\n      <td>0</td>\n    </tr>\n    <tr>\n      <th>3</th>\n      <td>“based on the things i’ve seen, the democrats ...</td>\n      <td>1</td>\n      <td>0</td>\n    </tr>\n    <tr>\n      <th>4</th>\n      <td></td>\n      <td>0</td>\n      <td>0</td>\n    </tr>\n  </tbody>\n</table>\n</div>"
     },
     "execution_count": 153,
     "metadata": {},
     "output_type": "execute_result"
    }
   ],
   "source": [
    "co_df[\"cries_cnt\"] = co_df[\"content\"].str.count(r\"\\b[A-Z0-9]+\\b\")\n",
    "co_df"
   ],
   "metadata": {
    "collapsed": false,
    "pycharm": {
     "name": "#%%\n"
    }
   }
  },
  {
   "cell_type": "markdown",
   "source": [
    "Count the length of the tweet in terms of characters."
   ],
   "metadata": {
    "collapsed": false
   }
  },
  {
   "cell_type": "code",
   "execution_count": 154,
   "outputs": [
    {
     "data": {
      "text/plain": "                                             content  mentions_cnt  cries_cnt  \\\n0  just returned to the @whitehouse after a great...             2          0   \n1  the degenerate washington post made up the sto...             0          0   \n2  louisiana! early voting is underway until satu...             1          0   \n3  “based on the things i’ve seen, the democrats ...             1          0   \n4                                                                0          0   \n\n   len  \n0  285  \n1  144  \n2  198  \n3  265  \n4    0  ",
      "text/html": "<div>\n<style scoped>\n    .dataframe tbody tr th:only-of-type {\n        vertical-align: middle;\n    }\n\n    .dataframe tbody tr th {\n        vertical-align: top;\n    }\n\n    .dataframe thead th {\n        text-align: right;\n    }\n</style>\n<table border=\"1\" class=\"dataframe\">\n  <thead>\n    <tr style=\"text-align: right;\">\n      <th></th>\n      <th>content</th>\n      <th>mentions_cnt</th>\n      <th>cries_cnt</th>\n      <th>len</th>\n    </tr>\n  </thead>\n  <tbody>\n    <tr>\n      <th>0</th>\n      <td>just returned to the @whitehouse after a great...</td>\n      <td>2</td>\n      <td>0</td>\n      <td>285</td>\n    </tr>\n    <tr>\n      <th>1</th>\n      <td>the degenerate washington post made up the sto...</td>\n      <td>0</td>\n      <td>0</td>\n      <td>144</td>\n    </tr>\n    <tr>\n      <th>2</th>\n      <td>louisiana! early voting is underway until satu...</td>\n      <td>1</td>\n      <td>0</td>\n      <td>198</td>\n    </tr>\n    <tr>\n      <th>3</th>\n      <td>“based on the things i’ve seen, the democrats ...</td>\n      <td>1</td>\n      <td>0</td>\n      <td>265</td>\n    </tr>\n    <tr>\n      <th>4</th>\n      <td></td>\n      <td>0</td>\n      <td>0</td>\n      <td>0</td>\n    </tr>\n  </tbody>\n</table>\n</div>"
     },
     "execution_count": 154,
     "metadata": {},
     "output_type": "execute_result"
    }
   ],
   "source": [
    "## Count the length of the tweet in characters\n",
    "co_df[\"len\"] = co_df[\"content\"].str.len()\n",
    "co_df"
   ],
   "metadata": {
    "collapsed": false,
    "pycharm": {
     "name": "#%%\n"
    }
   }
  },
  {
   "cell_type": "code",
   "execution_count": 72,
   "outputs": [
    {
     "data": {
      "text/plain": "                                             content  words_cnt\n0  Just returned to the @WhiteHouse after a great...         40\n1  The degenerate Washington Post MADE UP the sto...         25\n2  LOUISIANA! Early voting is underway until Satu...         30\n3  “Based on the things I’ve seen, the Democrats ...         47\n4                                                             1",
      "text/html": "<div>\n<style scoped>\n    .dataframe tbody tr th:only-of-type {\n        vertical-align: middle;\n    }\n\n    .dataframe tbody tr th {\n        vertical-align: top;\n    }\n\n    .dataframe thead th {\n        text-align: right;\n    }\n</style>\n<table border=\"1\" class=\"dataframe\">\n  <thead>\n    <tr style=\"text-align: right;\">\n      <th></th>\n      <th>content</th>\n      <th>words_cnt</th>\n    </tr>\n  </thead>\n  <tbody>\n    <tr>\n      <th>0</th>\n      <td>Just returned to the @WhiteHouse after a great...</td>\n      <td>40</td>\n    </tr>\n    <tr>\n      <th>1</th>\n      <td>The degenerate Washington Post MADE UP the sto...</td>\n      <td>25</td>\n    </tr>\n    <tr>\n      <th>2</th>\n      <td>LOUISIANA! Early voting is underway until Satu...</td>\n      <td>30</td>\n    </tr>\n    <tr>\n      <th>3</th>\n      <td>“Based on the things I’ve seen, the Democrats ...</td>\n      <td>47</td>\n    </tr>\n    <tr>\n      <th>4</th>\n      <td></td>\n      <td>1</td>\n    </tr>\n  </tbody>\n</table>\n</div>"
     },
     "execution_count": 72,
     "metadata": {},
     "output_type": "execute_result"
    }
   ],
   "source": [
    "## Count the length of the tweet in terms of words (splitting on whitespace)\n",
    "from collections import Counter\n",
    "import numpy as np\n",
    "\n",
    "words_count = set()\n",
    "\n",
    "words_split = co_df[\"content\"].str.split(\"\\s+\", expand=True)\\\n",
    "    .stack() \\\n",
    "    .reset_index()\n",
    "\n",
    "counts = words_split.groupby(\"level_0\").apply(len).reset_index()\n",
    "co_df[\"words_cnt\"] = counts[0]\n",
    "co_df\n",
    "# co_df[\"words_cnt\"] = counts\n",
    "# words_count\n",
    "# words_split.apply()\n",
    "# co_df[\"words_cnt\"] = 1"
   ],
   "metadata": {
    "collapsed": false,
    "pycharm": {
     "name": "#%%\n"
    }
   }
  }
 ],
 "metadata": {
  "kernelspec": {
   "display_name": "Python 3",
   "language": "python",
   "name": "python3"
  },
  "language_info": {
   "codemirror_mode": {
    "name": "ipython",
    "version": 2
   },
   "file_extension": ".py",
   "mimetype": "text/x-python",
   "name": "python",
   "nbconvert_exporter": "python",
   "pygments_lexer": "ipython2",
   "version": "2.7.6"
  }
 },
 "nbformat": 4,
 "nbformat_minor": 0
}