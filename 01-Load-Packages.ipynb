{
 "cells": [
  {
   "cell_type": "code",
   "execution_count": 11,
   "metadata": {
    "collapsed": true
   },
   "outputs": [
    {
     "name": "stdout",
     "output_type": "stream",
     "text": [
      "Python version: 3.7.7 (default, Mar 26 2020, 15:48:22) \n",
      "[GCC 7.3.0]\n",
      "Numpy version: 1.21.2\n",
      "Scipy version: 1.7.1\n",
      "nltk version: 3.6.5\n",
      "spacy version: 3.2.0\n",
      "Pandas version: 1.3.4\n",
      "Gensim version: 4.0.1\n",
      "Tensorflow version: 2.2.0\n"
     ]
    }
   ],
   "source": [
    "import sys\n",
    "import nltk\n",
    "import tensorflow as tf\n",
    "import pandas as pd\n",
    "import spacy\n",
    "import numpy as np\n",
    "import scipy\n",
    "import gensim\n",
    "\n",
    "print(f\"Python version: {sys.version}\")\n",
    "print(f\"Numpy version: {np.__version__}\")\n",
    "print(f\"Scipy version: {scipy.__version__}\")\n",
    "print(f\"nltk version: {nltk.__version__}\")\n",
    "print(f\"spacy version: {spacy.__version__}\")\n",
    "print(f\"Pandas version: {pd.__version__}\")\n",
    "print(f\"Gensim version: {gensim.__version__}\")\n",
    "print(f\"Tensorflow version: {tf.__version__}\")"
   ]
  }
 ],
 "metadata": {
  "kernelspec": {
   "display_name": "Python 3",
   "language": "python",
   "name": "python3"
  },
  "language_info": {
   "codemirror_mode": {
    "name": "ipython",
    "version": 2
   },
   "file_extension": ".py",
   "mimetype": "text/x-python",
   "name": "python",
   "nbconvert_exporter": "python",
   "pygments_lexer": "ipython2",
   "version": "2.7.6"
  }
 },
 "nbformat": 4,
 "nbformat_minor": 0
}